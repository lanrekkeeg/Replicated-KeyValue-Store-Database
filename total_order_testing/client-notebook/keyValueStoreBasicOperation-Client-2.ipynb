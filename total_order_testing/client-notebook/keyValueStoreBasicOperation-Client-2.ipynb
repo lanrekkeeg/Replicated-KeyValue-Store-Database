{
 "cells": [
  {
   "cell_type": "code",
   "execution_count": 1,
   "metadata": {},
   "outputs": [],
   "source": [
    "import sys\n",
    "sys.path.append(\"..\")\n"
   ]
  },
  {
   "cell_type": "code",
   "execution_count": 2,
   "metadata": {},
   "outputs": [],
   "source": [
    "from keyvalue_client import KeyStore\n",
    "import time"
   ]
  },
  {
   "cell_type": "code",
   "execution_count": 9,
   "metadata": {},
   "outputs": [
    {
     "name": "stdout",
     "output_type": "stream",
     "text": [
      "Checking for leader IP\n",
      "{'nodeID': '10', 'oper': 'response', 'message': {'leader': 10, 'host': '192.168.0.101', 'port': 9005}}\n",
      "Leader data is {'leader': 10, 'host': '192.168.0.101', 'port': 9005}\n",
      "Test passed\n",
      "Returning leader ip to client\n"
     ]
    }
   ],
   "source": [
    "db_conn = KeyStore()"
   ]
  },
  {
   "cell_type": "markdown",
   "metadata": {},
   "source": [
    "# Writing data to DataBase"
   ]
  },
  {
   "cell_type": "code",
   "execution_count": 10,
   "metadata": {},
   "outputs": [],
   "source": [
    "body = {\"studentID\":1,\"class\":\"8:00\",\"type\":\"MS\"}\n"
   ]
  },
  {
   "cell_type": "code",
   "execution_count": 11,
   "metadata": {},
   "outputs": [
    {
     "name": "stdout",
     "output_type": "stream",
     "text": [
      "db {'studentID': 1, 'class': '8:00', 'type': 'MS'} .\n"
     ]
    },
    {
     "data": {
      "text/plain": [
       "{'multicast': True,\n",
       " 'nodeID': '10',\n",
       " 'oper': 'response',\n",
       " 'message': {'success': 1, 'data': 'Record added, ID is 24'},\n",
       " 'send_time': '02/14/2022, 11:35:52',\n",
       " 'timestamp': '02/14/2022, 11:35:52',\n",
       " 'sqn_no': 25}"
      ]
     },
     "execution_count": 11,
     "metadata": {},
     "output_type": "execute_result"
    }
   ],
   "source": [
    "db_conn.write(bucket_name=\"db\",body=body)"
   ]
  },
  {
   "cell_type": "markdown",
   "metadata": {},
   "source": [
    "### Stress testing"
   ]
  },
  {
   "cell_type": "code",
   "execution_count": 6,
   "metadata": {},
   "outputs": [
    {
     "name": "stdout",
     "output_type": "stream",
     "text": [
      "db {'studentID': 1, 'class': '8:00', 'type': 'MS'} .\n",
      "{'multicast': True, 'nodeID': '10', 'oper': 'response', 'message': {'success': 1, 'data': 'Record added, ID is 13'}, 'send_time': '02/14/2022, 09:41:35', 'timestamp': '02/14/2022, 09:41:35', 'sqn_no': 13}\n",
      "db {'studentID': 2, 'class': '8:00', 'type': 'MS'} .\n",
      "{'multicast': True, 'nodeID': '10', 'oper': 'response', 'message': {'success': 1, 'data': 'Record added, ID is 14'}, 'send_time': '02/14/2022, 09:41:36', 'timestamp': '02/14/2022, 09:41:36', 'sqn_no': 14}\n",
      "db {'studentID': 3, 'class': '8:00', 'type': 'MS'} .\n",
      "{'multicast': True, 'nodeID': '10', 'oper': 'response', 'message': {'success': 1, 'data': 'Record added, ID is 15'}, 'send_time': '02/14/2022, 09:41:37', 'timestamp': '02/14/2022, 09:41:37', 'sqn_no': 15}\n",
      "db {'studentID': 4, 'class': '8:00', 'type': 'MS'} .\n",
      "{'multicast': True, 'nodeID': '10', 'oper': 'response', 'message': {'success': 1, 'data': 'Record added, ID is 16'}, 'send_time': '02/14/2022, 09:41:38', 'timestamp': '02/14/2022, 09:41:38', 'sqn_no': 16}\n",
      "db {'studentID': 5, 'class': '8:00', 'type': 'MS'} .\n",
      "{'multicast': True, 'nodeID': '10', 'oper': 'response', 'message': {'success': 1, 'data': 'Record added, ID is 17'}, 'send_time': '02/14/2022, 09:41:39', 'timestamp': '02/14/2022, 09:41:39', 'sqn_no': 17}\n",
      "db {'studentID': 6, 'class': '8:00', 'type': 'MS'} .\n",
      "{'multicast': True, 'nodeID': '10', 'oper': 'response', 'message': {'success': 1, 'data': 'Record added, ID is 18'}, 'send_time': '02/14/2022, 09:41:40', 'timestamp': '02/14/2022, 09:41:40', 'sqn_no': 18}\n",
      "db {'studentID': 7, 'class': '8:00', 'type': 'MS'} .\n",
      "{'multicast': True, 'nodeID': '10', 'oper': 'response', 'message': {'success': 1, 'data': 'Record added, ID is 19'}, 'send_time': '02/14/2022, 09:41:41', 'timestamp': '02/14/2022, 09:41:41', 'sqn_no': 19}\n",
      "db {'studentID': 8, 'class': '8:00', 'type': 'MS'} .\n",
      "{'multicast': True, 'nodeID': '10', 'oper': 'response', 'message': {'success': 1, 'data': 'Record added, ID is 20'}, 'send_time': '02/14/2022, 09:41:42', 'timestamp': '02/14/2022, 09:41:42', 'sqn_no': 20}\n",
      "db {'studentID': 9, 'class': '8:00', 'type': 'MS'} .\n",
      "{'multicast': True, 'nodeID': '10', 'oper': 'response', 'message': {'success': 1, 'data': 'Record added, ID is 21'}, 'send_time': '02/14/2022, 09:41:43', 'timestamp': '02/14/2022, 09:41:43', 'sqn_no': 21}\n",
      "db {'studentID': 10, 'class': '8:00', 'type': 'MS'} .\n",
      "{'multicast': True, 'nodeID': '10', 'oper': 'response', 'message': {'success': 1, 'data': 'Record added, ID is 22'}, 'send_time': '02/14/2022, 09:41:44', 'timestamp': '02/14/2022, 09:41:44', 'sqn_no': 22}\n"
     ]
    }
   ],
   "source": [
    "# stress testing\n",
    "for i in range(10):\n",
    "    body = {\"studentID\":i+1,\"class\":\"8:00\",\"type\":\"MS\"}\n",
    "    print(db_conn.write(bucket_name=\"db\",body=body))\n",
    "    time.sleep(1)\n",
    "    "
   ]
  },
  {
   "cell_type": "markdown",
   "metadata": {},
   "source": [
    "# Reading Record By ID from database"
   ]
  },
  {
   "cell_type": "code",
   "execution_count": null,
   "metadata": {},
   "outputs": [],
   "source": []
  },
  {
   "cell_type": "code",
   "execution_count": 7,
   "metadata": {},
   "outputs": [
    {
     "name": "stdout",
     "output_type": "stream",
     "text": [
      "db 1 .\n"
     ]
    },
    {
     "data": {
      "text/plain": [
       "{'multicast': True,\n",
       " 'nodeID': '10',\n",
       " 'oper': 'response',\n",
       " 'message': {'success': 1,\n",
       "  'data': {'studentID': 1, 'class': '8:00', 'type': 'MS'}},\n",
       " 'send_time': '02/14/2022, 10:23:39',\n",
       " 'timestamp': '02/14/2022, 10:23:39',\n",
       " 'sqn_no': 23}"
      ]
     },
     "execution_count": 7,
     "metadata": {},
     "output_type": "execute_result"
    }
   ],
   "source": [
    "db_conn.readbyID(bucket_name=\"db\",id=1)"
   ]
  },
  {
   "cell_type": "code",
   "execution_count": null,
   "metadata": {},
   "outputs": [],
   "source": []
  },
  {
   "cell_type": "markdown",
   "metadata": {},
   "source": [
    "# Deleting Record by ID"
   ]
  },
  {
   "cell_type": "code",
   "execution_count": null,
   "metadata": {},
   "outputs": [],
   "source": [
    "lst = [i for i in range(101)]"
   ]
  },
  {
   "cell_type": "code",
   "execution_count": null,
   "metadata": {},
   "outputs": [],
   "source": [
    "db_conn.deletebyID(bucket_name=\"db\",id=lst)"
   ]
  },
  {
   "cell_type": "markdown",
   "metadata": {},
   "source": [
    "# Update record by ID"
   ]
  },
  {
   "cell_type": "code",
   "execution_count": 12,
   "metadata": {},
   "outputs": [
    {
     "data": {
      "text/plain": [
       "{'multicast': True,\n",
       " 'nodeID': '10',\n",
       " 'oper': 'response',\n",
       " 'message': {'success': 1, 'data': 'Record updated sucessfully'},\n",
       " 'send_time': '02/14/2022, 01:44:37',\n",
       " 'timestamp': '02/14/2022, 01:44:37',\n",
       " 'sqn_no': 2}"
      ]
     },
     "execution_count": 12,
     "metadata": {},
     "output_type": "execute_result"
    }
   ],
   "source": [
    "query = {\"query\":{\"studentID\":\"1353245\"}, 'id':1}\n",
    "db_conn.updatebyID(bucket_name=\"db\", data=query)"
   ]
  },
  {
   "cell_type": "code",
   "execution_count": null,
   "metadata": {},
   "outputs": [],
   "source": []
  }
 ],
 "metadata": {
  "kernelspec": {
   "display_name": "Python 3 (ipykernel)",
   "language": "python",
   "name": "python3"
  },
  "language_info": {
   "codemirror_mode": {
    "name": "ipython",
    "version": 3
   },
   "file_extension": ".py",
   "mimetype": "text/x-python",
   "name": "python",
   "nbconvert_exporter": "python",
   "pygments_lexer": "ipython3",
   "version": "3.7.10"
  }
 },
 "nbformat": 4,
 "nbformat_minor": 4
}
