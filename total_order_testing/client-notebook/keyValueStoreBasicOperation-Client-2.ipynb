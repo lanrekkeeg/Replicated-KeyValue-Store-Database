{
 "cells": [
  {
   "cell_type": "code",
   "execution_count": 9,
   "metadata": {},
   "outputs": [],
   "source": [
    "import sys\n",
    "sys.path.append(\"..\")"
   ]
  },
  {
   "cell_type": "code",
   "execution_count": 10,
   "metadata": {},
   "outputs": [],
   "source": [
    "from keyvalue_client import KeyStore\n",
    "import time"
   ]
  },
  {
   "cell_type": "code",
   "execution_count": 11,
   "metadata": {},
   "outputs": [
    {
     "name": "stdout",
     "output_type": "stream",
     "text": [
      "Checking for leader IP\n",
      "{'nodeID': '4', 'oper': 'response', 'message': {'leader': 4, 'host': '192.168.0.101', 'port': 9006}}\n",
      "Leader data is {'leader': 4, 'host': '192.168.0.101', 'port': 9006}\n",
      "Test passed\n",
      "Returning leader ip to client\n"
     ]
    }
   ],
   "source": [
    "db_conn = KeyStore()"
   ]
  },
  {
   "cell_type": "code",
   "execution_count": 12,
   "metadata": {},
   "outputs": [],
   "source": [
    "message = {\"nodeID\":\"clien_1\",\"oper\": \"key-value\", \"message\":{\"oper-type\": \"write\", \"bucket_name\":\"db\",\"content\":{\"class\":\"8:00\",\"type\":\"MS\"}}}\n"
   ]
  },
  {
   "cell_type": "code",
   "execution_count": 13,
   "metadata": {},
   "outputs": [
    {
     "name": "stdout",
     "output_type": "stream",
     "text": [
      "db {'nodeID': 'clien_1', 'oper': 'key-value', 'message': {'oper-type': 'write', 'bucket_name': 'db', 'content': {'class': '8:00', 'type': 'MS'}}} .\n",
      "Writing data to DB successfulyy\n"
     ]
    },
    {
     "data": {
      "text/plain": [
       "b'{\"nodeID\": \"4\", \"oper\": \"response\", \"message\": {\"success\": 1, \"data\": \"Record added, ID is 658\"}, \"send_time\": \"01/06/2022, 23:06:37\", \"timestamp\": \"01/06/2022, 23:06:37\", \"sqn_no\": 658}'"
      ]
     },
     "execution_count": 13,
     "metadata": {},
     "output_type": "execute_result"
    }
   ],
   "source": [
    "db_conn.write(bucket_name=\"db\",body=message)"
   ]
  },
  {
   "cell_type": "code",
   "execution_count": 14,
   "metadata": {},
   "outputs": [
    {
     "name": "stdout",
     "output_type": "stream",
     "text": [
      "db {'nodeID': 'clien_1', 'oper': 'key-value', 'message': {'oper-type': 'write', 'bucket_name': 'db', 'content': {'class': '8:00', 'type': 'MS'}}} .\n",
      "Writing data to DB successfulyy\n",
      "b'{\"nodeID\": \"4\", \"oper\": \"response\", \"message\": {\"success\": 1, \"data\": \"Record added, ID is 659\"}, \"send_time\": \"01/06/2022, 23:06:37\", \"timestamp\": \"01/06/2022, 23:06:37\", \"sqn_no\": 659}'\n",
      "db {'nodeID': 'clien_1', 'oper': 'key-value', 'message': {'oper-type': 'write', 'bucket_name': 'db', 'content': {'class': '8:00', 'type': 'MS'}}} .\n",
      "Writing data to DB successfulyy\n",
      "b'{\"nodeID\": \"4\", \"oper\": \"response\", \"message\": {\"success\": 1, \"data\": \"Record added, ID is 661\"}, \"send_time\": \"01/06/2022, 23:06:38\", \"timestamp\": \"01/06/2022, 23:06:38\", \"sqn_no\": 661}'\n",
      "db {'nodeID': 'clien_1', 'oper': 'key-value', 'message': {'oper-type': 'write', 'bucket_name': 'db', 'content': {'class': '8:00', 'type': 'MS'}}} .\n",
      "Writing data to DB successfulyy\n",
      "b'{\"nodeID\": \"4\", \"oper\": \"response\", \"message\": {\"success\": 1, \"data\": \"Record added, ID is 663\"}, \"send_time\": \"01/06/2022, 23:06:40\", \"timestamp\": \"01/06/2022, 23:06:40\", \"sqn_no\": 663}'\n",
      "db {'nodeID': 'clien_1', 'oper': 'key-value', 'message': {'oper-type': 'write', 'bucket_name': 'db', 'content': {'class': '8:00', 'type': 'MS'}}} .\n",
      "Writing data to DB successfulyy\n",
      "b'{\"nodeID\": \"4\", \"oper\": \"response\", \"message\": {\"success\": 1, \"data\": \"Record added, ID is 665\"}, \"send_time\": \"01/06/2022, 23:06:41\", \"timestamp\": \"01/06/2022, 23:06:41\", \"sqn_no\": 665}'\n",
      "db {'nodeID': 'clien_1', 'oper': 'key-value', 'message': {'oper-type': 'write', 'bucket_name': 'db', 'content': {'class': '8:00', 'type': 'MS'}}} .\n",
      "Writing data to DB successfulyy\n",
      "b'{\"nodeID\": \"4\", \"oper\": \"response\", \"message\": {\"success\": 1, \"data\": \"Record added, ID is 667\"}, \"send_time\": \"01/06/2022, 23:06:42\", \"timestamp\": \"01/06/2022, 23:06:42\", \"sqn_no\": 667}'\n",
      "db {'nodeID': 'clien_1', 'oper': 'key-value', 'message': {'oper-type': 'write', 'bucket_name': 'db', 'content': {'class': '8:00', 'type': 'MS'}}} .\n",
      "Writing data to DB successfulyy\n",
      "b'{\"nodeID\": \"4\", \"oper\": \"response\", \"message\": {\"success\": 1, \"data\": \"Record added, ID is 669\"}, \"send_time\": \"01/06/2022, 23:06:43\", \"timestamp\": \"01/06/2022, 23:06:43\", \"sqn_no\": 669}'\n",
      "db {'nodeID': 'clien_1', 'oper': 'key-value', 'message': {'oper-type': 'write', 'bucket_name': 'db', 'content': {'class': '8:00', 'type': 'MS'}}} .\n",
      "Writing data to DB successfulyy\n",
      "b'{\"nodeID\": \"4\", \"oper\": \"response\", \"message\": {\"success\": 1, \"data\": \"Record added, ID is 671\"}, \"send_time\": \"01/06/2022, 23:06:44\", \"timestamp\": \"01/06/2022, 23:06:44\", \"sqn_no\": 671}'\n",
      "db {'nodeID': 'clien_1', 'oper': 'key-value', 'message': {'oper-type': 'write', 'bucket_name': 'db', 'content': {'class': '8:00', 'type': 'MS'}}} .\n",
      "Writing data to DB successfulyy\n",
      "b'{\"nodeID\": \"4\", \"oper\": \"response\", \"message\": {\"success\": 1, \"data\": \"Record added, ID is 673\"}, \"send_time\": \"01/06/2022, 23:06:46\", \"timestamp\": \"01/06/2022, 23:06:46\", \"sqn_no\": 673}'\n",
      "db {'nodeID': 'clien_1', 'oper': 'key-value', 'message': {'oper-type': 'write', 'bucket_name': 'db', 'content': {'class': '8:00', 'type': 'MS'}}} .\n",
      "Writing data to DB successfulyy\n",
      "b'{\"nodeID\": \"4\", \"oper\": \"response\", \"message\": {\"success\": 1, \"data\": \"Record added, ID is 675\"}, \"send_time\": \"01/06/2022, 23:06:47\", \"timestamp\": \"01/06/2022, 23:06:47\", \"sqn_no\": 675}'\n",
      "db {'nodeID': 'clien_1', 'oper': 'key-value', 'message': {'oper-type': 'write', 'bucket_name': 'db', 'content': {'class': '8:00', 'type': 'MS'}}} .\n",
      "Writing data to DB successfulyy\n",
      "b'{\"nodeID\": \"4\", \"oper\": \"response\", \"message\": {\"success\": 1, \"data\": \"Record added, ID is 677\"}, \"send_time\": \"01/06/2022, 23:06:48\", \"timestamp\": \"01/06/2022, 23:06:48\", \"sqn_no\": 677}'\n",
      "db {'nodeID': 'clien_1', 'oper': 'key-value', 'message': {'oper-type': 'write', 'bucket_name': 'db', 'content': {'class': '8:00', 'type': 'MS'}}} .\n",
      "Writing data to DB successfulyy\n",
      "b'{\"nodeID\": \"4\", \"oper\": \"response\", \"message\": {\"success\": 1, \"data\": \"Record added, ID is 679\"}, \"send_time\": \"01/06/2022, 23:06:49\", \"timestamp\": \"01/06/2022, 23:06:49\", \"sqn_no\": 679}'\n",
      "db {'nodeID': 'clien_1', 'oper': 'key-value', 'message': {'oper-type': 'write', 'bucket_name': 'db', 'content': {'class': '8:00', 'type': 'MS'}}} .\n",
      "Writing data to DB successfulyy\n",
      "b'{\"nodeID\": \"4\", \"oper\": \"response\", \"message\": {\"success\": 1, \"data\": \"Record added, ID is 681\"}, \"send_time\": \"01/06/2022, 23:06:51\", \"timestamp\": \"01/06/2022, 23:06:51\", \"sqn_no\": 681}'\n",
      "db {'nodeID': 'clien_1', 'oper': 'key-value', 'message': {'oper-type': 'write', 'bucket_name': 'db', 'content': {'class': '8:00', 'type': 'MS'}}} .\n",
      "Writing data to DB successfulyy\n",
      "b'{\"nodeID\": \"4\", \"oper\": \"response\", \"message\": {\"success\": 1, \"data\": \"Record added, ID is 683\"}, \"send_time\": \"01/06/2022, 23:06:52\", \"timestamp\": \"01/06/2022, 23:06:52\", \"sqn_no\": 683}'\n",
      "db {'nodeID': 'clien_1', 'oper': 'key-value', 'message': {'oper-type': 'write', 'bucket_name': 'db', 'content': {'class': '8:00', 'type': 'MS'}}} .\n",
      "Writing data to DB successfulyy\n",
      "b'{\"nodeID\": \"4\", \"oper\": \"response\", \"message\": {\"success\": 1, \"data\": \"Record added, ID is 685\"}, \"send_time\": \"01/06/2022, 23:06:53\", \"timestamp\": \"01/06/2022, 23:06:53\", \"sqn_no\": 685}'\n",
      "db {'nodeID': 'clien_1', 'oper': 'key-value', 'message': {'oper-type': 'write', 'bucket_name': 'db', 'content': {'class': '8:00', 'type': 'MS'}}} .\n",
      "Writing data to DB successfulyy\n",
      "b'{\"nodeID\": \"4\", \"oper\": \"response\", \"message\": {\"success\": 1, \"data\": \"Record added, ID is 687\"}, \"send_time\": \"01/06/2022, 23:06:54\", \"timestamp\": \"01/06/2022, 23:06:54\", \"sqn_no\": 687}'\n",
      "db {'nodeID': 'clien_1', 'oper': 'key-value', 'message': {'oper-type': 'write', 'bucket_name': 'db', 'content': {'class': '8:00', 'type': 'MS'}}} .\n",
      "Writing data to DB successfulyy\n",
      "b'{\"nodeID\": \"4\", \"oper\": \"response\", \"message\": {\"success\": 1, \"data\": \"Record added, ID is 689\"}, \"send_time\": \"01/06/2022, 23:06:55\", \"timestamp\": \"01/06/2022, 23:06:55\", \"sqn_no\": 689}'\n",
      "db {'nodeID': 'clien_1', 'oper': 'key-value', 'message': {'oper-type': 'write', 'bucket_name': 'db', 'content': {'class': '8:00', 'type': 'MS'}}} .\n",
      "Writing data to DB successfulyy\n",
      "b'{\"nodeID\": \"4\", \"oper\": \"response\", \"message\": {\"success\": 1, \"data\": \"Record added, ID is 691\"}, \"send_time\": \"01/06/2022, 23:06:57\", \"timestamp\": \"01/06/2022, 23:06:57\", \"sqn_no\": 691}'\n",
      "db {'nodeID': 'clien_1', 'oper': 'key-value', 'message': {'oper-type': 'write', 'bucket_name': 'db', 'content': {'class': '8:00', 'type': 'MS'}}} .\n",
      "Writing data to DB successfulyy\n",
      "b'{\"nodeID\": \"4\", \"oper\": \"response\", \"message\": {\"success\": 1, \"data\": \"Record added, ID is 693\"}, \"send_time\": \"01/06/2022, 23:06:58\", \"timestamp\": \"01/06/2022, 23:06:58\", \"sqn_no\": 693}'\n",
      "db {'nodeID': 'clien_1', 'oper': 'key-value', 'message': {'oper-type': 'write', 'bucket_name': 'db', 'content': {'class': '8:00', 'type': 'MS'}}} .\n",
      "Writing data to DB successfulyy\n",
      "b'{\"nodeID\": \"4\", \"oper\": \"response\", \"message\": {\"success\": 1, \"data\": \"Record added, ID is 695\"}, \"send_time\": \"01/06/2022, 23:06:59\", \"timestamp\": \"01/06/2022, 23:06:59\", \"sqn_no\": 695}'\n",
      "db {'nodeID': 'clien_1', 'oper': 'key-value', 'message': {'oper-type': 'write', 'bucket_name': 'db', 'content': {'class': '8:00', 'type': 'MS'}}} .\n",
      "Writing data to DB successfulyy\n",
      "b'{\"nodeID\": \"4\", \"oper\": \"response\", \"message\": {\"success\": 1, \"data\": \"Record added, ID is 697\"}, \"send_time\": \"01/06/2022, 23:07:00\", \"timestamp\": \"01/06/2022, 23:07:00\", \"sqn_no\": 697}'\n",
      "db {'nodeID': 'clien_1', 'oper': 'key-value', 'message': {'oper-type': 'write', 'bucket_name': 'db', 'content': {'class': '8:00', 'type': 'MS'}}} .\n",
      "Writing data to DB successfulyy\n",
      "b'{\"nodeID\": \"4\", \"oper\": \"response\", \"message\": {\"success\": 1, \"data\": \"Record added, ID is 699\"}, \"send_time\": \"01/06/2022, 23:07:01\", \"timestamp\": \"01/06/2022, 23:07:01\", \"sqn_no\": 699}'\n",
      "db {'nodeID': 'clien_1', 'oper': 'key-value', 'message': {'oper-type': 'write', 'bucket_name': 'db', 'content': {'class': '8:00', 'type': 'MS'}}} .\n",
      "Writing data to DB successfulyy\n",
      "b'{\"nodeID\": \"4\", \"oper\": \"response\", \"message\": {\"success\": 1, \"data\": \"Record added, ID is 701\"}, \"send_time\": \"01/06/2022, 23:07:03\", \"timestamp\": \"01/06/2022, 23:07:03\", \"sqn_no\": 701}'\n",
      "db {'nodeID': 'clien_1', 'oper': 'key-value', 'message': {'oper-type': 'write', 'bucket_name': 'db', 'content': {'class': '8:00', 'type': 'MS'}}} .\n",
      "Writing data to DB successfulyy\n"
     ]
    },
    {
     "name": "stdout",
     "output_type": "stream",
     "text": [
      "b'{\"nodeID\": \"4\", \"oper\": \"response\", \"message\": {\"success\": 1, \"data\": \"Record added, ID is 703\"}, \"send_time\": \"01/06/2022, 23:07:04\", \"timestamp\": \"01/06/2022, 23:07:04\", \"sqn_no\": 703}'\n",
      "db {'nodeID': 'clien_1', 'oper': 'key-value', 'message': {'oper-type': 'write', 'bucket_name': 'db', 'content': {'class': '8:00', 'type': 'MS'}}} .\n",
      "Writing data to DB successfulyy\n",
      "b'{\"nodeID\": \"4\", \"oper\": \"response\", \"message\": {\"success\": 1, \"data\": \"Record added, ID is 705\"}, \"send_time\": \"01/06/2022, 23:07:05\", \"timestamp\": \"01/06/2022, 23:07:05\", \"sqn_no\": 705}'\n",
      "db {'nodeID': 'clien_1', 'oper': 'key-value', 'message': {'oper-type': 'write', 'bucket_name': 'db', 'content': {'class': '8:00', 'type': 'MS'}}} .\n",
      "Writing data to DB successfulyy\n",
      "b'{\"nodeID\": \"4\", \"oper\": \"response\", \"message\": {\"success\": 1, \"data\": \"Record added, ID is 707\"}, \"send_time\": \"01/06/2022, 23:07:06\", \"timestamp\": \"01/06/2022, 23:07:06\", \"sqn_no\": 707}'\n",
      "db {'nodeID': 'clien_1', 'oper': 'key-value', 'message': {'oper-type': 'write', 'bucket_name': 'db', 'content': {'class': '8:00', 'type': 'MS'}}} .\n",
      "Writing data to DB successfulyy\n",
      "b'{\"nodeID\": \"4\", \"oper\": \"response\", \"message\": {\"success\": 1, \"data\": \"Record added, ID is 709\"}, \"send_time\": \"01/06/2022, 23:07:07\", \"timestamp\": \"01/06/2022, 23:07:07\", \"sqn_no\": 709}'\n",
      "db {'nodeID': 'clien_1', 'oper': 'key-value', 'message': {'oper-type': 'write', 'bucket_name': 'db', 'content': {'class': '8:00', 'type': 'MS'}}} .\n",
      "Writing data to DB successfulyy\n",
      "b'{\"nodeID\": \"4\", \"oper\": \"response\", \"message\": {\"success\": 1, \"data\": \"Record added, ID is 711\"}, \"send_time\": \"01/06/2022, 23:07:09\", \"timestamp\": \"01/06/2022, 23:07:09\", \"sqn_no\": 711}'\n",
      "db {'nodeID': 'clien_1', 'oper': 'key-value', 'message': {'oper-type': 'write', 'bucket_name': 'db', 'content': {'class': '8:00', 'type': 'MS'}}} .\n",
      "Writing data to DB successfulyy\n",
      "b'{\"nodeID\": \"4\", \"oper\": \"response\", \"message\": {\"success\": 1, \"data\": \"Record added, ID is 713\"}, \"send_time\": \"01/06/2022, 23:07:10\", \"timestamp\": \"01/06/2022, 23:07:10\", \"sqn_no\": 713}'\n",
      "db {'nodeID': 'clien_1', 'oper': 'key-value', 'message': {'oper-type': 'write', 'bucket_name': 'db', 'content': {'class': '8:00', 'type': 'MS'}}} .\n",
      "Writing data to DB successfulyy\n",
      "b'{\"nodeID\": \"4\", \"oper\": \"response\", \"message\": {\"success\": 1, \"data\": \"Record added, ID is 715\"}, \"send_time\": \"01/06/2022, 23:07:11\", \"timestamp\": \"01/06/2022, 23:07:11\", \"sqn_no\": 715}'\n",
      "db {'nodeID': 'clien_1', 'oper': 'key-value', 'message': {'oper-type': 'write', 'bucket_name': 'db', 'content': {'class': '8:00', 'type': 'MS'}}} .\n",
      "Writing data to DB successfulyy\n",
      "b'{\"nodeID\": \"4\", \"oper\": \"response\", \"message\": {\"success\": 1, \"data\": \"Record added, ID is 717\"}, \"send_time\": \"01/06/2022, 23:07:12\", \"timestamp\": \"01/06/2022, 23:07:12\", \"sqn_no\": 717}'\n",
      "db {'nodeID': 'clien_1', 'oper': 'key-value', 'message': {'oper-type': 'write', 'bucket_name': 'db', 'content': {'class': '8:00', 'type': 'MS'}}} .\n",
      "Writing data to DB successfulyy\n",
      "b'{\"nodeID\": \"4\", \"oper\": \"response\", \"message\": {\"success\": 1, \"data\": \"Record added, ID is 719\"}, \"send_time\": \"01/06/2022, 23:07:14\", \"timestamp\": \"01/06/2022, 23:07:14\", \"sqn_no\": 719}'\n",
      "db {'nodeID': 'clien_1', 'oper': 'key-value', 'message': {'oper-type': 'write', 'bucket_name': 'db', 'content': {'class': '8:00', 'type': 'MS'}}} .\n",
      "Writing data to DB successfulyy\n",
      "b'{\"nodeID\": \"4\", \"oper\": \"response\", \"message\": {\"success\": 1, \"data\": \"Record added, ID is 721\"}, \"send_time\": \"01/06/2022, 23:07:15\", \"timestamp\": \"01/06/2022, 23:07:15\", \"sqn_no\": 721}'\n",
      "db {'nodeID': 'clien_1', 'oper': 'key-value', 'message': {'oper-type': 'write', 'bucket_name': 'db', 'content': {'class': '8:00', 'type': 'MS'}}} .\n",
      "Writing data to DB successfulyy\n",
      "b'{\"nodeID\": \"4\", \"oper\": \"response\", \"message\": {\"success\": 1, \"data\": \"Record added, ID is 723\"}, \"send_time\": \"01/06/2022, 23:07:16\", \"timestamp\": \"01/06/2022, 23:07:16\", \"sqn_no\": 723}'\n",
      "db {'nodeID': 'clien_1', 'oper': 'key-value', 'message': {'oper-type': 'write', 'bucket_name': 'db', 'content': {'class': '8:00', 'type': 'MS'}}} .\n",
      "Writing data to DB successfulyy\n",
      "b'{\"nodeID\": \"4\", \"oper\": \"response\", \"message\": {\"success\": 1, \"data\": \"Record added, ID is 725\"}, \"send_time\": \"01/06/2022, 23:07:17\", \"timestamp\": \"01/06/2022, 23:07:17\", \"sqn_no\": 725}'\n",
      "db {'nodeID': 'clien_1', 'oper': 'key-value', 'message': {'oper-type': 'write', 'bucket_name': 'db', 'content': {'class': '8:00', 'type': 'MS'}}} .\n",
      "Writing data to DB successfulyy\n",
      "b'{\"nodeID\": \"4\", \"oper\": \"response\", \"message\": {\"success\": 1, \"data\": \"Record added, ID is 727\"}, \"send_time\": \"01/06/2022, 23:07:18\", \"timestamp\": \"01/06/2022, 23:07:18\", \"sqn_no\": 727}'\n",
      "db {'nodeID': 'clien_1', 'oper': 'key-value', 'message': {'oper-type': 'write', 'bucket_name': 'db', 'content': {'class': '8:00', 'type': 'MS'}}} .\n",
      "Writing data to DB successfulyy\n",
      "b'{\"nodeID\": \"4\", \"oper\": \"response\", \"message\": {\"success\": 1, \"data\": \"Record added, ID is 729\"}, \"send_time\": \"01/06/2022, 23:07:20\", \"timestamp\": \"01/06/2022, 23:07:20\", \"sqn_no\": 729}'\n",
      "db {'nodeID': 'clien_1', 'oper': 'key-value', 'message': {'oper-type': 'write', 'bucket_name': 'db', 'content': {'class': '8:00', 'type': 'MS'}}} .\n",
      "Writing data to DB successfulyy\n",
      "b'{\"nodeID\": \"4\", \"oper\": \"response\", \"message\": {\"success\": 1, \"data\": \"Record added, ID is 731\"}, \"send_time\": \"01/06/2022, 23:07:21\", \"timestamp\": \"01/06/2022, 23:07:21\", \"sqn_no\": 731}'\n",
      "db {'nodeID': 'clien_1', 'oper': 'key-value', 'message': {'oper-type': 'write', 'bucket_name': 'db', 'content': {'class': '8:00', 'type': 'MS'}}} .\n",
      "Writing data to DB successfulyy\n",
      "b'{\"nodeID\": \"4\", \"oper\": \"response\", \"message\": {\"success\": 1, \"data\": \"Record added, ID is 733\"}, \"send_time\": \"01/06/2022, 23:07:22\", \"timestamp\": \"01/06/2022, 23:07:22\", \"sqn_no\": 733}'\n",
      "db {'nodeID': 'clien_1', 'oper': 'key-value', 'message': {'oper-type': 'write', 'bucket_name': 'db', 'content': {'class': '8:00', 'type': 'MS'}}} .\n",
      "Writing data to DB successfulyy\n",
      "b'{\"nodeID\": \"4\", \"oper\": \"response\", \"message\": {\"success\": 1, \"data\": \"Record added, ID is 735\"}, \"send_time\": \"01/06/2022, 23:07:23\", \"timestamp\": \"01/06/2022, 23:07:23\", \"sqn_no\": 735}'\n",
      "db {'nodeID': 'clien_1', 'oper': 'key-value', 'message': {'oper-type': 'write', 'bucket_name': 'db', 'content': {'class': '8:00', 'type': 'MS'}}} .\n",
      "Writing data to DB successfulyy\n",
      "b'{\"nodeID\": \"4\", \"oper\": \"response\", \"message\": {\"success\": 1, \"data\": \"Record added, ID is 737\"}, \"send_time\": \"01/06/2022, 23:07:24\", \"timestamp\": \"01/06/2022, 23:07:24\", \"sqn_no\": 737}'\n",
      "db {'nodeID': 'clien_1', 'oper': 'key-value', 'message': {'oper-type': 'write', 'bucket_name': 'db', 'content': {'class': '8:00', 'type': 'MS'}}} .\n",
      "Writing data to DB successfulyy\n",
      "b'{\"nodeID\": \"4\", \"oper\": \"response\", \"message\": {\"success\": 1, \"data\": \"Record added, ID is 739\"}, \"send_time\": \"01/06/2022, 23:07:26\", \"timestamp\": \"01/06/2022, 23:07:26\", \"sqn_no\": 739}'\n",
      "db {'nodeID': 'clien_1', 'oper': 'key-value', 'message': {'oper-type': 'write', 'bucket_name': 'db', 'content': {'class': '8:00', 'type': 'MS'}}} .\n",
      "Writing data to DB successfulyy\n",
      "b'{\"nodeID\": \"4\", \"oper\": \"response\", \"message\": {\"success\": 1, \"data\": \"Record added, ID is 741\"}, \"send_time\": \"01/06/2022, 23:07:27\", \"timestamp\": \"01/06/2022, 23:07:27\", \"sqn_no\": 741}'\n",
      "db {'nodeID': 'clien_1', 'oper': 'key-value', 'message': {'oper-type': 'write', 'bucket_name': 'db', 'content': {'class': '8:00', 'type': 'MS'}}} .\n",
      "Writing data to DB successfulyy\n",
      "b'{\"nodeID\": \"4\", \"oper\": \"response\", \"message\": {\"success\": 1, \"data\": \"Record added, ID is 743\"}, \"send_time\": \"01/06/2022, 23:07:28\", \"timestamp\": \"01/06/2022, 23:07:28\", \"sqn_no\": 743}'\n",
      "db {'nodeID': 'clien_1', 'oper': 'key-value', 'message': {'oper-type': 'write', 'bucket_name': 'db', 'content': {'class': '8:00', 'type': 'MS'}}} .\n",
      "Writing data to DB successfulyy\n",
      "b'{\"nodeID\": \"4\", \"oper\": \"response\", \"message\": {\"success\": 1, \"data\": \"Record added, ID is 745\"}, \"send_time\": \"01/06/2022, 23:07:29\", \"timestamp\": \"01/06/2022, 23:07:29\", \"sqn_no\": 745}'\n",
      "db {'nodeID': 'clien_1', 'oper': 'key-value', 'message': {'oper-type': 'write', 'bucket_name': 'db', 'content': {'class': '8:00', 'type': 'MS'}}} .\n",
      "Writing data to DB successfulyy\n",
      "b'{\"nodeID\": \"4\", \"oper\": \"response\", \"message\": {\"success\": 1, \"data\": \"Record added, ID is 747\"}, \"send_time\": \"01/06/2022, 23:07:30\", \"timestamp\": \"01/06/2022, 23:07:30\", \"sqn_no\": 747}'\n"
     ]
    },
    {
     "name": "stdout",
     "output_type": "stream",
     "text": [
      "db {'nodeID': 'clien_1', 'oper': 'key-value', 'message': {'oper-type': 'write', 'bucket_name': 'db', 'content': {'class': '8:00', 'type': 'MS'}}} .\n",
      "Writing data to DB successfulyy\n",
      "b'{\"nodeID\": \"4\", \"oper\": \"response\", \"message\": {\"success\": 1, \"data\": \"Record added, ID is 749\"}, \"send_time\": \"01/06/2022, 23:07:32\", \"timestamp\": \"01/06/2022, 23:07:32\", \"sqn_no\": 749}'\n",
      "db {'nodeID': 'clien_1', 'oper': 'key-value', 'message': {'oper-type': 'write', 'bucket_name': 'db', 'content': {'class': '8:00', 'type': 'MS'}}} .\n",
      "Writing data to DB successfulyy\n",
      "b'{\"nodeID\": \"4\", \"oper\": \"response\", \"message\": {\"success\": 1, \"data\": \"Record added, ID is 751\"}, \"send_time\": \"01/06/2022, 23:07:33\", \"timestamp\": \"01/06/2022, 23:07:33\", \"sqn_no\": 751}'\n",
      "db {'nodeID': 'clien_1', 'oper': 'key-value', 'message': {'oper-type': 'write', 'bucket_name': 'db', 'content': {'class': '8:00', 'type': 'MS'}}} .\n",
      "Writing data to DB successfulyy\n",
      "b'{\"nodeID\": \"4\", \"oper\": \"response\", \"message\": {\"success\": 1, \"data\": \"Record added, ID is 753\"}, \"send_time\": \"01/06/2022, 23:07:34\", \"timestamp\": \"01/06/2022, 23:07:34\", \"sqn_no\": 753}'\n",
      "db {'nodeID': 'clien_1', 'oper': 'key-value', 'message': {'oper-type': 'write', 'bucket_name': 'db', 'content': {'class': '8:00', 'type': 'MS'}}} .\n",
      "Writing data to DB successfulyy\n",
      "b'{\"nodeID\": \"4\", \"oper\": \"response\", \"message\": {\"success\": 1, \"data\": \"Record added, ID is 755\"}, \"send_time\": \"01/06/2022, 23:07:35\", \"timestamp\": \"01/06/2022, 23:07:35\", \"sqn_no\": 755}'\n",
      "db {'nodeID': 'clien_1', 'oper': 'key-value', 'message': {'oper-type': 'write', 'bucket_name': 'db', 'content': {'class': '8:00', 'type': 'MS'}}} .\n",
      "Writing data to DB successfulyy\n",
      "b'{\"nodeID\": \"4\", \"oper\": \"response\", \"message\": {\"success\": 1, \"data\": \"Record added, ID is 757\"}, \"send_time\": \"01/06/2022, 23:07:37\", \"timestamp\": \"01/06/2022, 23:07:37\", \"sqn_no\": 757}'\n",
      "db {'nodeID': 'clien_1', 'oper': 'key-value', 'message': {'oper-type': 'write', 'bucket_name': 'db', 'content': {'class': '8:00', 'type': 'MS'}}} .\n",
      "Writing data to DB successfulyy\n",
      "b'{\"nodeID\": \"4\", \"oper\": \"response\", \"message\": {\"success\": 1, \"data\": \"Record added, ID is 759\"}, \"send_time\": \"01/06/2022, 23:07:38\", \"timestamp\": \"01/06/2022, 23:07:38\", \"sqn_no\": 759}'\n",
      "db {'nodeID': 'clien_1', 'oper': 'key-value', 'message': {'oper-type': 'write', 'bucket_name': 'db', 'content': {'class': '8:00', 'type': 'MS'}}} .\n",
      "Writing data to DB successfulyy\n",
      "b'{\"nodeID\": \"4\", \"oper\": \"response\", \"message\": {\"success\": 1, \"data\": \"Record added, ID is 761\"}, \"send_time\": \"01/06/2022, 23:07:39\", \"timestamp\": \"01/06/2022, 23:07:39\", \"sqn_no\": 761}'\n",
      "db {'nodeID': 'clien_1', 'oper': 'key-value', 'message': {'oper-type': 'write', 'bucket_name': 'db', 'content': {'class': '8:00', 'type': 'MS'}}} .\n",
      "Writing data to DB successfulyy\n",
      "b'{\"nodeID\": \"4\", \"oper\": \"response\", \"message\": {\"success\": 1, \"data\": \"Record added, ID is 763\"}, \"send_time\": \"01/06/2022, 23:07:40\", \"timestamp\": \"01/06/2022, 23:07:40\", \"sqn_no\": 763}'\n",
      "db {'nodeID': 'clien_1', 'oper': 'key-value', 'message': {'oper-type': 'write', 'bucket_name': 'db', 'content': {'class': '8:00', 'type': 'MS'}}} .\n",
      "Writing data to DB successfulyy\n",
      "b'{\"nodeID\": \"4\", \"oper\": \"response\", \"message\": {\"success\": 1, \"data\": \"Record added, ID is 765\"}, \"send_time\": \"01/06/2022, 23:07:41\", \"timestamp\": \"01/06/2022, 23:07:41\", \"sqn_no\": 765}'\n",
      "db {'nodeID': 'clien_1', 'oper': 'key-value', 'message': {'oper-type': 'write', 'bucket_name': 'db', 'content': {'class': '8:00', 'type': 'MS'}}} .\n",
      "Writing data to DB successfulyy\n",
      "b'{\"nodeID\": \"4\", \"oper\": \"response\", \"message\": {\"success\": 1, \"data\": \"Record added, ID is 767\"}, \"send_time\": \"01/06/2022, 23:07:43\", \"timestamp\": \"01/06/2022, 23:07:43\", \"sqn_no\": 767}'\n",
      "db {'nodeID': 'clien_1', 'oper': 'key-value', 'message': {'oper-type': 'write', 'bucket_name': 'db', 'content': {'class': '8:00', 'type': 'MS'}}} .\n",
      "Writing data to DB successfulyy\n",
      "b'{\"nodeID\": \"4\", \"oper\": \"response\", \"message\": {\"success\": 1, \"data\": \"Record added, ID is 769\"}, \"send_time\": \"01/06/2022, 23:07:44\", \"timestamp\": \"01/06/2022, 23:07:44\", \"sqn_no\": 769}'\n",
      "db {'nodeID': 'clien_1', 'oper': 'key-value', 'message': {'oper-type': 'write', 'bucket_name': 'db', 'content': {'class': '8:00', 'type': 'MS'}}} .\n",
      "Writing data to DB successfulyy\n",
      "b'{\"nodeID\": \"4\", \"oper\": \"response\", \"message\": {\"success\": 1, \"data\": \"Record added, ID is 771\"}, \"send_time\": \"01/06/2022, 23:07:45\", \"timestamp\": \"01/06/2022, 23:07:45\", \"sqn_no\": 771}'\n",
      "db {'nodeID': 'clien_1', 'oper': 'key-value', 'message': {'oper-type': 'write', 'bucket_name': 'db', 'content': {'class': '8:00', 'type': 'MS'}}} .\n",
      "Writing data to DB successfulyy\n",
      "b'{\"nodeID\": \"4\", \"oper\": \"response\", \"message\": {\"success\": 1, \"data\": \"Record added, ID is 773\"}, \"send_time\": \"01/06/2022, 23:07:46\", \"timestamp\": \"01/06/2022, 23:07:46\", \"sqn_no\": 773}'\n",
      "db {'nodeID': 'clien_1', 'oper': 'key-value', 'message': {'oper-type': 'write', 'bucket_name': 'db', 'content': {'class': '8:00', 'type': 'MS'}}} .\n",
      "Writing data to DB successfulyy\n",
      "b'{\"nodeID\": \"4\", \"oper\": \"response\", \"message\": {\"success\": 1, \"data\": \"Record added, ID is 775\"}, \"send_time\": \"01/06/2022, 23:07:47\", \"timestamp\": \"01/06/2022, 23:07:47\", \"sqn_no\": 775}'\n",
      "db {'nodeID': 'clien_1', 'oper': 'key-value', 'message': {'oper-type': 'write', 'bucket_name': 'db', 'content': {'class': '8:00', 'type': 'MS'}}} .\n",
      "Writing data to DB successfulyy\n",
      "b'{\"nodeID\": \"4\", \"oper\": \"response\", \"message\": {\"success\": 1, \"data\": \"Record added, ID is 777\"}, \"send_time\": \"01/06/2022, 23:07:49\", \"timestamp\": \"01/06/2022, 23:07:49\", \"sqn_no\": 777}'\n",
      "db {'nodeID': 'clien_1', 'oper': 'key-value', 'message': {'oper-type': 'write', 'bucket_name': 'db', 'content': {'class': '8:00', 'type': 'MS'}}} .\n",
      "Writing data to DB successfulyy\n",
      "b'{\"nodeID\": \"4\", \"oper\": \"response\", \"message\": {\"success\": 1, \"data\": \"Record added, ID is 779\"}, \"send_time\": \"01/06/2022, 23:07:50\", \"timestamp\": \"01/06/2022, 23:07:50\", \"sqn_no\": 779}'\n",
      "db {'nodeID': 'clien_1', 'oper': 'key-value', 'message': {'oper-type': 'write', 'bucket_name': 'db', 'content': {'class': '8:00', 'type': 'MS'}}} .\n",
      "Writing data to DB successfulyy\n",
      "b'{\"nodeID\": \"4\", \"oper\": \"response\", \"message\": {\"success\": 1, \"data\": \"Record added, ID is 781\"}, \"send_time\": \"01/06/2022, 23:07:51\", \"timestamp\": \"01/06/2022, 23:07:51\", \"sqn_no\": 781}'\n",
      "db {'nodeID': 'clien_1', 'oper': 'key-value', 'message': {'oper-type': 'write', 'bucket_name': 'db', 'content': {'class': '8:00', 'type': 'MS'}}} .\n",
      "Writing data to DB successfulyy\n",
      "b'{\"nodeID\": \"4\", \"oper\": \"response\", \"message\": {\"success\": 1, \"data\": \"Record added, ID is 783\"}, \"send_time\": \"01/06/2022, 23:07:52\", \"timestamp\": \"01/06/2022, 23:07:52\", \"sqn_no\": 783}'\n",
      "db {'nodeID': 'clien_1', 'oper': 'key-value', 'message': {'oper-type': 'write', 'bucket_name': 'db', 'content': {'class': '8:00', 'type': 'MS'}}} .\n",
      "Writing data to DB successfulyy\n",
      "b'{\"nodeID\": \"4\", \"oper\": \"response\", \"message\": {\"success\": 1, \"data\": \"Record added, ID is 785\"}, \"send_time\": \"01/06/2022, 23:07:53\", \"timestamp\": \"01/06/2022, 23:07:53\", \"sqn_no\": 785}'\n",
      "db {'nodeID': 'clien_1', 'oper': 'key-value', 'message': {'oper-type': 'write', 'bucket_name': 'db', 'content': {'class': '8:00', 'type': 'MS'}}} .\n",
      "Writing data to DB successfulyy\n",
      "b'{\"nodeID\": \"4\", \"oper\": \"response\", \"message\": {\"success\": 1, \"data\": \"Record added, ID is 787\"}, \"send_time\": \"01/06/2022, 23:07:55\", \"timestamp\": \"01/06/2022, 23:07:55\", \"sqn_no\": 787}'\n",
      "db {'nodeID': 'clien_1', 'oper': 'key-value', 'message': {'oper-type': 'write', 'bucket_name': 'db', 'content': {'class': '8:00', 'type': 'MS'}}} .\n",
      "Writing data to DB successfulyy\n",
      "b'{\"nodeID\": \"4\", \"oper\": \"response\", \"message\": {\"success\": 1, \"data\": \"Record added, ID is 789\"}, \"send_time\": \"01/06/2022, 23:07:56\", \"timestamp\": \"01/06/2022, 23:07:56\", \"sqn_no\": 789}'\n",
      "db {'nodeID': 'clien_1', 'oper': 'key-value', 'message': {'oper-type': 'write', 'bucket_name': 'db', 'content': {'class': '8:00', 'type': 'MS'}}} .\n",
      "Writing data to DB successfulyy\n",
      "b'{\"nodeID\": \"4\", \"oper\": \"response\", \"message\": {\"success\": 1, \"data\": \"Record added, ID is 791\"}, \"send_time\": \"01/06/2022, 23:07:57\", \"timestamp\": \"01/06/2022, 23:07:57\", \"sqn_no\": 791}'\n",
      "db {'nodeID': 'clien_1', 'oper': 'key-value', 'message': {'oper-type': 'write', 'bucket_name': 'db', 'content': {'class': '8:00', 'type': 'MS'}}} .\n",
      "Writing data to DB successfulyy\n"
     ]
    },
    {
     "name": "stdout",
     "output_type": "stream",
     "text": [
      "b'{\"nodeID\": \"4\", \"oper\": \"response\", \"message\": {\"success\": 1, \"data\": \"Record added, ID is 793\"}, \"send_time\": \"01/06/2022, 23:07:58\", \"timestamp\": \"01/06/2022, 23:07:58\", \"sqn_no\": 793}'\n",
      "db {'nodeID': 'clien_1', 'oper': 'key-value', 'message': {'oper-type': 'write', 'bucket_name': 'db', 'content': {'class': '8:00', 'type': 'MS'}}} .\n",
      "Writing data to DB successfulyy\n",
      "b'{\"nodeID\": \"4\", \"oper\": \"response\", \"message\": {\"success\": 1, \"data\": \"Record added, ID is 795\"}, \"send_time\": \"01/06/2022, 23:08:00\", \"timestamp\": \"01/06/2022, 23:08:00\", \"sqn_no\": 795}'\n",
      "db {'nodeID': 'clien_1', 'oper': 'key-value', 'message': {'oper-type': 'write', 'bucket_name': 'db', 'content': {'class': '8:00', 'type': 'MS'}}} .\n",
      "Writing data to DB successfulyy\n",
      "b'{\"nodeID\": \"4\", \"oper\": \"response\", \"message\": {\"success\": 1, \"data\": \"Record added, ID is 797\"}, \"send_time\": \"01/06/2022, 23:08:01\", \"timestamp\": \"01/06/2022, 23:08:01\", \"sqn_no\": 797}'\n",
      "db {'nodeID': 'clien_1', 'oper': 'key-value', 'message': {'oper-type': 'write', 'bucket_name': 'db', 'content': {'class': '8:00', 'type': 'MS'}}} .\n",
      "Writing data to DB successfulyy\n",
      "b'{\"nodeID\": \"4\", \"oper\": \"response\", \"message\": {\"success\": 1, \"data\": \"Record added, ID is 799\"}, \"send_time\": \"01/06/2022, 23:08:02\", \"timestamp\": \"01/06/2022, 23:08:02\", \"sqn_no\": 799}'\n",
      "db {'nodeID': 'clien_1', 'oper': 'key-value', 'message': {'oper-type': 'write', 'bucket_name': 'db', 'content': {'class': '8:00', 'type': 'MS'}}} .\n",
      "Writing data to DB successfulyy\n",
      "b'{\"nodeID\": \"4\", \"oper\": \"response\", \"message\": {\"success\": 1, \"data\": \"Record added, ID is 801\"}, \"send_time\": \"01/06/2022, 23:08:03\", \"timestamp\": \"01/06/2022, 23:08:03\", \"sqn_no\": 801}'\n",
      "db {'nodeID': 'clien_1', 'oper': 'key-value', 'message': {'oper-type': 'write', 'bucket_name': 'db', 'content': {'class': '8:00', 'type': 'MS'}}} .\n",
      "Writing data to DB successfulyy\n",
      "b'{\"nodeID\": \"4\", \"oper\": \"response\", \"message\": {\"success\": 1, \"data\": \"Record added, ID is 803\"}, \"send_time\": \"01/06/2022, 23:08:04\", \"timestamp\": \"01/06/2022, 23:08:04\", \"sqn_no\": 803}'\n",
      "db {'nodeID': 'clien_1', 'oper': 'key-value', 'message': {'oper-type': 'write', 'bucket_name': 'db', 'content': {'class': '8:00', 'type': 'MS'}}} .\n",
      "Writing data to DB successfulyy\n",
      "b'{\"nodeID\": \"4\", \"oper\": \"response\", \"message\": {\"success\": 1, \"data\": \"Record added, ID is 805\"}, \"send_time\": \"01/06/2022, 23:08:06\", \"timestamp\": \"01/06/2022, 23:08:06\", \"sqn_no\": 805}'\n",
      "db {'nodeID': 'clien_1', 'oper': 'key-value', 'message': {'oper-type': 'write', 'bucket_name': 'db', 'content': {'class': '8:00', 'type': 'MS'}}} .\n",
      "Writing data to DB successfulyy\n",
      "b'{\"nodeID\": \"4\", \"oper\": \"response\", \"message\": {\"success\": 1, \"data\": \"Record added, ID is 807\"}, \"send_time\": \"01/06/2022, 23:08:07\", \"timestamp\": \"01/06/2022, 23:08:07\", \"sqn_no\": 807}'\n",
      "db {'nodeID': 'clien_1', 'oper': 'key-value', 'message': {'oper-type': 'write', 'bucket_name': 'db', 'content': {'class': '8:00', 'type': 'MS'}}} .\n",
      "Writing data to DB successfulyy\n",
      "b'{\"nodeID\": \"4\", \"oper\": \"response\", \"message\": {\"success\": 1, \"data\": \"Record added, ID is 809\"}, \"send_time\": \"01/06/2022, 23:08:08\", \"timestamp\": \"01/06/2022, 23:08:08\", \"sqn_no\": 809}'\n",
      "db {'nodeID': 'clien_1', 'oper': 'key-value', 'message': {'oper-type': 'write', 'bucket_name': 'db', 'content': {'class': '8:00', 'type': 'MS'}}} .\n",
      "Writing data to DB successfulyy\n",
      "b'{\"nodeID\": \"4\", \"oper\": \"response\", \"message\": {\"success\": 1, \"data\": \"Record added, ID is 811\"}, \"send_time\": \"01/06/2022, 23:08:09\", \"timestamp\": \"01/06/2022, 23:08:09\", \"sqn_no\": 811}'\n",
      "db {'nodeID': 'clien_1', 'oper': 'key-value', 'message': {'oper-type': 'write', 'bucket_name': 'db', 'content': {'class': '8:00', 'type': 'MS'}}} .\n",
      "Writing data to DB successfulyy\n",
      "b'{\"nodeID\": \"4\", \"oper\": \"response\", \"message\": {\"success\": 1, \"data\": \"Record added, ID is 813\"}, \"send_time\": \"01/06/2022, 23:08:10\", \"timestamp\": \"01/06/2022, 23:08:10\", \"sqn_no\": 813}'\n",
      "db {'nodeID': 'clien_1', 'oper': 'key-value', 'message': {'oper-type': 'write', 'bucket_name': 'db', 'content': {'class': '8:00', 'type': 'MS'}}} .\n",
      "Writing data to DB successfulyy\n",
      "b'{\"nodeID\": \"4\", \"oper\": \"response\", \"message\": {\"success\": 1, \"data\": \"Record added, ID is 815\"}, \"send_time\": \"01/06/2022, 23:08:12\", \"timestamp\": \"01/06/2022, 23:08:12\", \"sqn_no\": 815}'\n",
      "db {'nodeID': 'clien_1', 'oper': 'key-value', 'message': {'oper-type': 'write', 'bucket_name': 'db', 'content': {'class': '8:00', 'type': 'MS'}}} .\n",
      "Writing data to DB successfulyy\n",
      "b'{\"nodeID\": \"4\", \"oper\": \"response\", \"message\": {\"success\": 1, \"data\": \"Record added, ID is 817\"}, \"send_time\": \"01/06/2022, 23:08:13\", \"timestamp\": \"01/06/2022, 23:08:13\", \"sqn_no\": 817}'\n",
      "db {'nodeID': 'clien_1', 'oper': 'key-value', 'message': {'oper-type': 'write', 'bucket_name': 'db', 'content': {'class': '8:00', 'type': 'MS'}}} .\n",
      "Writing data to DB successfulyy\n",
      "b'{\"nodeID\": \"4\", \"oper\": \"response\", \"message\": {\"success\": 1, \"data\": \"Record added, ID is 819\"}, \"send_time\": \"01/06/2022, 23:08:14\", \"timestamp\": \"01/06/2022, 23:08:14\", \"sqn_no\": 819}'\n",
      "db {'nodeID': 'clien_1', 'oper': 'key-value', 'message': {'oper-type': 'write', 'bucket_name': 'db', 'content': {'class': '8:00', 'type': 'MS'}}} .\n",
      "Writing data to DB successfulyy\n",
      "b'{\"nodeID\": \"4\", \"oper\": \"response\", \"message\": {\"success\": 1, \"data\": \"Record added, ID is 821\"}, \"send_time\": \"01/06/2022, 23:08:15\", \"timestamp\": \"01/06/2022, 23:08:15\", \"sqn_no\": 821}'\n",
      "db {'nodeID': 'clien_1', 'oper': 'key-value', 'message': {'oper-type': 'write', 'bucket_name': 'db', 'content': {'class': '8:00', 'type': 'MS'}}} .\n",
      "Writing data to DB successfulyy\n",
      "b'{\"nodeID\": \"4\", \"oper\": \"response\", \"message\": {\"success\": 1, \"data\": \"Record added, ID is 823\"}, \"send_time\": \"01/06/2022, 23:08:16\", \"timestamp\": \"01/06/2022, 23:08:16\", \"sqn_no\": 823}'\n",
      "db {'nodeID': 'clien_1', 'oper': 'key-value', 'message': {'oper-type': 'write', 'bucket_name': 'db', 'content': {'class': '8:00', 'type': 'MS'}}} .\n",
      "Writing data to DB successfulyy\n",
      "b'{\"nodeID\": \"4\", \"oper\": \"response\", \"message\": {\"success\": 1, \"data\": \"Record added, ID is 825\"}, \"send_time\": \"01/06/2022, 23:08:18\", \"timestamp\": \"01/06/2022, 23:08:18\", \"sqn_no\": 825}'\n",
      "db {'nodeID': 'clien_1', 'oper': 'key-value', 'message': {'oper-type': 'write', 'bucket_name': 'db', 'content': {'class': '8:00', 'type': 'MS'}}} .\n",
      "Writing data to DB successfulyy\n",
      "b'{\"nodeID\": \"4\", \"oper\": \"response\", \"message\": {\"success\": 1, \"data\": \"Record added, ID is 827\"}, \"send_time\": \"01/06/2022, 23:08:19\", \"timestamp\": \"01/06/2022, 23:08:19\", \"sqn_no\": 827}'\n",
      "db {'nodeID': 'clien_1', 'oper': 'key-value', 'message': {'oper-type': 'write', 'bucket_name': 'db', 'content': {'class': '8:00', 'type': 'MS'}}} .\n",
      "Writing data to DB successfulyy\n",
      "b'{\"nodeID\": \"4\", \"oper\": \"response\", \"message\": {\"success\": 1, \"data\": \"Record added, ID is 829\"}, \"send_time\": \"01/06/2022, 23:08:20\", \"timestamp\": \"01/06/2022, 23:08:20\", \"sqn_no\": 829}'\n",
      "db {'nodeID': 'clien_1', 'oper': 'key-value', 'message': {'oper-type': 'write', 'bucket_name': 'db', 'content': {'class': '8:00', 'type': 'MS'}}} .\n",
      "Writing data to DB successfulyy\n",
      "b'{\"nodeID\": \"4\", \"oper\": \"response\", \"message\": {\"success\": 1, \"data\": \"Record added, ID is 831\"}, \"send_time\": \"01/06/2022, 23:08:21\", \"timestamp\": \"01/06/2022, 23:08:21\", \"sqn_no\": 831}'\n",
      "db {'nodeID': 'clien_1', 'oper': 'key-value', 'message': {'oper-type': 'write', 'bucket_name': 'db', 'content': {'class': '8:00', 'type': 'MS'}}} .\n",
      "Writing data to DB successfulyy\n",
      "b'{\"nodeID\": \"4\", \"oper\": \"response\", \"message\": {\"success\": 1, \"data\": \"Record added, ID is 833\"}, \"send_time\": \"01/06/2022, 23:08:23\", \"timestamp\": \"01/06/2022, 23:08:23\", \"sqn_no\": 833}'\n",
      "db {'nodeID': 'clien_1', 'oper': 'key-value', 'message': {'oper-type': 'write', 'bucket_name': 'db', 'content': {'class': '8:00', 'type': 'MS'}}} .\n",
      "Writing data to DB successfulyy\n",
      "b'{\"nodeID\": \"4\", \"oper\": \"response\", \"message\": {\"success\": 1, \"data\": \"Record added, ID is 835\"}, \"send_time\": \"01/06/2022, 23:08:24\", \"timestamp\": \"01/06/2022, 23:08:24\", \"sqn_no\": 835}'\n",
      "db {'nodeID': 'clien_1', 'oper': 'key-value', 'message': {'oper-type': 'write', 'bucket_name': 'db', 'content': {'class': '8:00', 'type': 'MS'}}} .\n",
      "Writing data to DB successfulyy\n",
      "b'{\"nodeID\": \"4\", \"oper\": \"response\", \"message\": {\"success\": 1, \"data\": \"Record added, ID is 837\"}, \"send_time\": \"01/06/2022, 23:08:25\", \"timestamp\": \"01/06/2022, 23:08:25\", \"sqn_no\": 837}'\n"
     ]
    },
    {
     "name": "stdout",
     "output_type": "stream",
     "text": [
      "db {'nodeID': 'clien_1', 'oper': 'key-value', 'message': {'oper-type': 'write', 'bucket_name': 'db', 'content': {'class': '8:00', 'type': 'MS'}}} .\n",
      "Writing data to DB successfulyy\n",
      "b'{\"nodeID\": \"4\", \"oper\": \"response\", \"message\": {\"success\": 1, \"data\": \"Record added, ID is 839\"}, \"send_time\": \"01/06/2022, 23:08:26\", \"timestamp\": \"01/06/2022, 23:08:26\", \"sqn_no\": 839}'\n",
      "db {'nodeID': 'clien_1', 'oper': 'key-value', 'message': {'oper-type': 'write', 'bucket_name': 'db', 'content': {'class': '8:00', 'type': 'MS'}}} .\n",
      "Writing data to DB successfulyy\n",
      "b'{\"nodeID\": \"4\", \"oper\": \"response\", \"message\": {\"success\": 1, \"data\": \"Record added, ID is 841\"}, \"send_time\": \"01/06/2022, 23:08:27\", \"timestamp\": \"01/06/2022, 23:08:27\", \"sqn_no\": 841}'\n",
      "db {'nodeID': 'clien_1', 'oper': 'key-value', 'message': {'oper-type': 'write', 'bucket_name': 'db', 'content': {'class': '8:00', 'type': 'MS'}}} .\n",
      "Writing data to DB successfulyy\n",
      "b'{\"nodeID\": \"4\", \"oper\": \"response\", \"message\": {\"success\": 1, \"data\": \"Record added, ID is 843\"}, \"send_time\": \"01/06/2022, 23:08:29\", \"timestamp\": \"01/06/2022, 23:08:29\", \"sqn_no\": 843}'\n",
      "db {'nodeID': 'clien_1', 'oper': 'key-value', 'message': {'oper-type': 'write', 'bucket_name': 'db', 'content': {'class': '8:00', 'type': 'MS'}}} .\n",
      "Writing data to DB successfulyy\n",
      "b'{\"nodeID\": \"4\", \"oper\": \"response\", \"message\": {\"success\": 1, \"data\": \"Record added, ID is 844\"}, \"send_time\": \"01/06/2022, 23:08:30\", \"timestamp\": \"01/06/2022, 23:08:30\", \"sqn_no\": 844}'\n",
      "db {'nodeID': 'clien_1', 'oper': 'key-value', 'message': {'oper-type': 'write', 'bucket_name': 'db', 'content': {'class': '8:00', 'type': 'MS'}}} .\n",
      "Writing data to DB successfulyy\n",
      "b'{\"nodeID\": \"4\", \"oper\": \"response\", \"message\": {\"success\": 1, \"data\": \"Record added, ID is 845\"}, \"send_time\": \"01/06/2022, 23:08:31\", \"timestamp\": \"01/06/2022, 23:08:31\", \"sqn_no\": 845}'\n",
      "db {'nodeID': 'clien_1', 'oper': 'key-value', 'message': {'oper-type': 'write', 'bucket_name': 'db', 'content': {'class': '8:00', 'type': 'MS'}}} .\n",
      "Writing data to DB successfulyy\n",
      "b'{\"nodeID\": \"4\", \"oper\": \"response\", \"message\": {\"success\": 1, \"data\": \"Record added, ID is 846\"}, \"send_time\": \"01/06/2022, 23:08:32\", \"timestamp\": \"01/06/2022, 23:08:32\", \"sqn_no\": 846}'\n",
      "db {'nodeID': 'clien_1', 'oper': 'key-value', 'message': {'oper-type': 'write', 'bucket_name': 'db', 'content': {'class': '8:00', 'type': 'MS'}}} .\n",
      "Writing data to DB successfulyy\n",
      "b'{\"nodeID\": \"4\", \"oper\": \"response\", \"message\": {\"success\": 1, \"data\": \"Record added, ID is 847\"}, \"send_time\": \"01/06/2022, 23:08:33\", \"timestamp\": \"01/06/2022, 23:08:33\", \"sqn_no\": 847}'\n",
      "db {'nodeID': 'clien_1', 'oper': 'key-value', 'message': {'oper-type': 'write', 'bucket_name': 'db', 'content': {'class': '8:00', 'type': 'MS'}}} .\n",
      "Writing data to DB successfulyy\n",
      "b'{\"nodeID\": \"4\", \"oper\": \"response\", \"message\": {\"success\": 1, \"data\": \"Record added, ID is 848\"}, \"send_time\": \"01/06/2022, 23:08:35\", \"timestamp\": \"01/06/2022, 23:08:35\", \"sqn_no\": 848}'\n",
      "db {'nodeID': 'clien_1', 'oper': 'key-value', 'message': {'oper-type': 'write', 'bucket_name': 'db', 'content': {'class': '8:00', 'type': 'MS'}}} .\n",
      "Writing data to DB successfulyy\n",
      "b'{\"nodeID\": \"4\", \"oper\": \"response\", \"message\": {\"success\": 1, \"data\": \"Record added, ID is 849\"}, \"send_time\": \"01/06/2022, 23:08:36\", \"timestamp\": \"01/06/2022, 23:08:36\", \"sqn_no\": 849}'\n",
      "db {'nodeID': 'clien_1', 'oper': 'key-value', 'message': {'oper-type': 'write', 'bucket_name': 'db', 'content': {'class': '8:00', 'type': 'MS'}}} .\n",
      "Writing data to DB successfulyy\n",
      "b'{\"nodeID\": \"4\", \"oper\": \"response\", \"message\": {\"success\": 1, \"data\": \"Record added, ID is 850\"}, \"send_time\": \"01/06/2022, 23:08:37\", \"timestamp\": \"01/06/2022, 23:08:37\", \"sqn_no\": 850}'\n"
     ]
    }
   ],
   "source": [
    "# stress testing\n",
    "for i in range(100):\n",
    "    print(db_conn.write(bucket_name=\"db\",body=message))\n",
    "    time.sleep(1)\n",
    "    "
   ]
  },
  {
   "cell_type": "code",
   "execution_count": null,
   "metadata": {},
   "outputs": [],
   "source": [
    "db_conn.readbyID()"
   ]
  },
  {
   "cell_type": "code",
   "execution_count": null,
   "metadata": {},
   "outputs": [],
   "source": [
    "db_conn.create_db_connection()"
   ]
  },
  {
   "cell_type": "code",
   "execution_count": 17,
   "metadata": {},
   "outputs": [],
   "source": [
    "al = 12"
   ]
  },
  {
   "cell_type": "code",
   "execution_count": 19,
   "metadata": {},
   "outputs": [
    {
     "name": "stdout",
     "output_type": "stream",
     "text": [
      "passed\n"
     ]
    }
   ],
   "source": [
    "if 10 < al <13:\n",
    "    print(\"passed\")"
   ]
  },
  {
   "cell_type": "code",
   "execution_count": null,
   "metadata": {},
   "outputs": [],
   "source": []
  }
 ],
 "metadata": {
  "kernelspec": {
   "display_name": "Python 3 (ipykernel)",
   "language": "python",
   "name": "python3"
  },
  "language_info": {
   "codemirror_mode": {
    "name": "ipython",
    "version": 3
   },
   "file_extension": ".py",
   "mimetype": "text/x-python",
   "name": "python",
   "nbconvert_exporter": "python",
   "pygments_lexer": "ipython3",
   "version": "3.7.10"
  }
 },
 "nbformat": 4,
 "nbformat_minor": 4
}
