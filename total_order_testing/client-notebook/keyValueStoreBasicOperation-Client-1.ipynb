{
 "cells": [
  {
   "cell_type": "code",
   "execution_count": 47,
   "metadata": {},
   "outputs": [],
   "source": [
    "import sys\n",
    "sys.path.append(\"..\")\n"
   ]
  },
  {
   "cell_type": "code",
   "execution_count": 48,
   "metadata": {},
   "outputs": [],
   "source": [
    "from keyvalue_client import KeyStore\n",
    "import time"
   ]
  },
  {
   "cell_type": "code",
   "execution_count": 49,
   "metadata": {},
   "outputs": [
    {
     "name": "stdout",
     "output_type": "stream",
     "text": [
      "Checking for leader IP\n",
      "{'nodeID': '7', 'oper': 'response', 'message': {'leader': 7, 'host': '192.168.0.101', 'port': 9005}}\n",
      "Leader data is {'leader': 7, 'host': '192.168.0.101', 'port': 9005}\n",
      "Test passed\n",
      "Returning leader ip to client\n"
     ]
    }
   ],
   "source": [
    "db_conn = KeyStore()"
   ]
  },
  {
   "cell_type": "markdown",
   "metadata": {},
   "source": [
    "# Writing data to DataBase"
   ]
  },
  {
   "cell_type": "code",
   "execution_count": 50,
   "metadata": {},
   "outputs": [],
   "source": [
    "body = {\"studentID\":1,\"class\":\"8:00\",\"type\":\"MS\"}\n"
   ]
  },
  {
   "cell_type": "code",
   "execution_count": 51,
   "metadata": {},
   "outputs": [
    {
     "name": "stdout",
     "output_type": "stream",
     "text": [
      "db {'studentID': 1, 'class': '8:00', 'type': 'MS'} .\n",
      "Connection break with cordinator, Establishing connection...\n",
      "Checking for leader IP\n",
      "{'nodeID': '7', 'oper': 'response', 'message': {'leader': 7, 'host': '192.168.0.101', 'port': 9005}}\n",
      "Leader data is {'leader': 7, 'host': '192.168.0.101', 'port': 9005}\n",
      "Test passed\n",
      "Returning leader ip to client\n"
     ]
    }
   ],
   "source": [
    "db_conn.write(bucket_name=\"db\",body=body)"
   ]
  },
  {
   "cell_type": "markdown",
   "metadata": {},
   "source": [
    "### Stress testing"
   ]
  },
  {
   "cell_type": "code",
   "execution_count": 52,
   "metadata": {},
   "outputs": [
    {
     "name": "stdout",
     "output_type": "stream",
     "text": [
      "db {'studentID': 1, 'class': '8:00', 'type': 'MS'} .\n",
      "Connection break with cordinator, Establishing connection...\n",
      "Checking for leader IP\n",
      "{'nodeID': '7', 'oper': 'response', 'message': {'leader': 7, 'host': '192.168.0.101', 'port': 9005}}\n",
      "Leader data is {'leader': 7, 'host': '192.168.0.101', 'port': 9005}\n",
      "Test passed\n",
      "Returning leader ip to client\n",
      "None\n",
      "db {'studentID': 2, 'class': '8:00', 'type': 'MS'} .\n",
      "Connection break with cordinator, Establishing connection...\n",
      "Checking for leader IP\n",
      "{'nodeID': '7', 'oper': 'response', 'message': {'leader': 7, 'host': '192.168.0.101', 'port': 9005}}\n",
      "Leader data is {'leader': 7, 'host': '192.168.0.101', 'port': 9005}\n",
      "Test passed\n",
      "Returning leader ip to client\n",
      "None\n",
      "db {'studentID': 3, 'class': '8:00', 'type': 'MS'} .\n",
      "Connection break with cordinator, Establishing connection...\n",
      "Checking for leader IP\n",
      "{'nodeID': '7', 'oper': 'response', 'message': {'leader': 7, 'host': '192.168.0.101', 'port': 9005}}\n",
      "Leader data is {'leader': 7, 'host': '192.168.0.101', 'port': 9005}\n",
      "Test passed\n",
      "Returning leader ip to client\n",
      "None\n",
      "db {'studentID': 4, 'class': '8:00', 'type': 'MS'} .\n",
      "Connection break with cordinator, Establishing connection...\n",
      "Checking for leader IP\n",
      "{'nodeID': '7', 'oper': 'response', 'message': {'leader': 7, 'host': '192.168.0.101', 'port': 9005}}\n",
      "Leader data is {'leader': 7, 'host': '192.168.0.101', 'port': 9005}\n",
      "Test passed\n",
      "Returning leader ip to client\n",
      "None\n",
      "db {'studentID': 5, 'class': '8:00', 'type': 'MS'} .\n",
      "Connection break with cordinator, Establishing connection...\n",
      "Checking for leader IP\n",
      "{'nodeID': '7', 'oper': 'response', 'message': {'leader': 7, 'host': '192.168.0.101', 'port': 9005}}\n",
      "Leader data is {'leader': 7, 'host': '192.168.0.101', 'port': 9005}\n",
      "Test passed\n",
      "Returning leader ip to client\n",
      "None\n",
      "db {'studentID': 6, 'class': '8:00', 'type': 'MS'} .\n",
      "Connection break with cordinator, Establishing connection...\n",
      "Checking for leader IP\n",
      "{'nodeID': '7', 'oper': 'response', 'message': {'leader': 7, 'host': '192.168.0.101', 'port': 9005}}\n",
      "Leader data is {'leader': 7, 'host': '192.168.0.101', 'port': 9005}\n",
      "Test passed\n",
      "Returning leader ip to client\n",
      "None\n",
      "db {'studentID': 7, 'class': '8:00', 'type': 'MS'} .\n",
      "Connection break with cordinator, Establishing connection...\n",
      "Checking for leader IP\n",
      "{'nodeID': '7', 'oper': 'response', 'message': {'leader': 7, 'host': '192.168.0.101', 'port': 9005}}\n",
      "Leader data is {'leader': 7, 'host': '192.168.0.101', 'port': 9005}\n",
      "Test passed\n",
      "Returning leader ip to client\n",
      "None\n",
      "db {'studentID': 8, 'class': '8:00', 'type': 'MS'} .\n",
      "b''\n",
      "db {'studentID': 9, 'class': '8:00', 'type': 'MS'} .\n",
      "Connection break with cordinator, Establishing connection...\n",
      "Checking for leader IP\n",
      "{'nodeID': '4', 'oper': 'response', 'message': {'leader': '4', 'host': '192.168.0.101', 'port': 9006}}\n",
      "Leader data is {'leader': '4', 'host': '192.168.0.101', 'port': 9006}\n",
      "Test passed\n",
      "Returning leader ip to client\n",
      "None\n",
      "db {'studentID': 10, 'class': '8:00', 'type': 'MS'} .\n",
      "Connection break with cordinator, Establishing connection...\n",
      "Checking for leader IP\n",
      "{'nodeID': '4', 'oper': 'response', 'message': {'leader': 4, 'host': '192.168.0.101', 'port': 9006}}\n",
      "Leader data is {'leader': 4, 'host': '192.168.0.101', 'port': 9006}\n",
      "Test passed\n",
      "Returning leader ip to client\n",
      "None\n",
      "db {'studentID': 11, 'class': '8:00', 'type': 'MS'} .\n",
      "Connection break with cordinator, Establishing connection...\n",
      "Checking for leader IP\n",
      "{'nodeID': '4', 'oper': 'response', 'message': {'leader': 4, 'host': '192.168.0.101', 'port': 9006}}\n",
      "Leader data is {'leader': 4, 'host': '192.168.0.101', 'port': 9006}\n",
      "Test passed\n",
      "Returning leader ip to client\n",
      "None\n",
      "db {'studentID': 12, 'class': '8:00', 'type': 'MS'} .\n",
      "Connection break with cordinator, Establishing connection...\n",
      "Checking for leader IP\n",
      "{'nodeID': '4', 'oper': 'response', 'message': {'leader': 4, 'host': '192.168.0.101', 'port': 9006}}\n",
      "Leader data is {'leader': 4, 'host': '192.168.0.101', 'port': 9006}\n",
      "Test passed\n",
      "Returning leader ip to client\n",
      "None\n",
      "db {'studentID': 13, 'class': '8:00', 'type': 'MS'} .\n",
      "Connection break with cordinator, Establishing connection...\n",
      "Checking for leader IP\n",
      "{'nodeID': '4', 'oper': 'response', 'message': {'leader': 4, 'host': '192.168.0.101', 'port': 9006}}\n",
      "Leader data is {'leader': 4, 'host': '192.168.0.101', 'port': 9006}\n",
      "Test passed\n",
      "Returning leader ip to client\n",
      "None\n",
      "db {'studentID': 14, 'class': '8:00', 'type': 'MS'} .\n",
      "Connection break with cordinator, Establishing connection...\n",
      "Checking for leader IP\n",
      "{'nodeID': '4', 'oper': 'response', 'message': {'leader': 4, 'host': '192.168.0.101', 'port': 9006}}\n",
      "Leader data is {'leader': 4, 'host': '192.168.0.101', 'port': 9006}\n",
      "Test passed\n",
      "Returning leader ip to client\n",
      "None\n",
      "db {'studentID': 15, 'class': '8:00', 'type': 'MS'} .\n",
      "Connection break with cordinator, Establishing connection...\n",
      "Checking for leader IP\n",
      "{'nodeID': '4', 'oper': 'response', 'message': {'leader': 4, 'host': '192.168.0.101', 'port': 9006}}\n",
      "Leader data is {'leader': 4, 'host': '192.168.0.101', 'port': 9006}\n",
      "Test passed\n",
      "Returning leader ip to client\n",
      "None\n",
      "db {'studentID': 16, 'class': '8:00', 'type': 'MS'} .\n",
      "Connection break with cordinator, Establishing connection...\n",
      "Checking for leader IP\n",
      "{'nodeID': '4', 'oper': 'response', 'message': {'leader': 4, 'host': '192.168.0.101', 'port': 9006}}\n",
      "Leader data is {'leader': 4, 'host': '192.168.0.101', 'port': 9006}\n",
      "Test passed\n",
      "Returning leader ip to client\n",
      "None\n",
      "db {'studentID': 17, 'class': '8:00', 'type': 'MS'} .\n",
      "Connection break with cordinator, Establishing connection...\n",
      "Checking for leader IP\n",
      "{'nodeID': '4', 'oper': 'response', 'message': {'leader': 4, 'host': '192.168.0.101', 'port': 9006}}\n",
      "Leader data is {'leader': 4, 'host': '192.168.0.101', 'port': 9006}\n",
      "Test passed\n",
      "Returning leader ip to client\n",
      "None\n",
      "db {'studentID': 18, 'class': '8:00', 'type': 'MS'} .\n",
      "b''\n",
      "db {'studentID': 19, 'class': '8:00', 'type': 'MS'} .\n",
      "Connection break with cordinator, Establishing connection...\n",
      "Checking for leader IP\n",
      "{'nodeID': '2', 'oper': 'response', 'message': {'leader': '2', 'host': '192.168.0.101', 'port': 9004}}\n",
      "Leader data is {'leader': '2', 'host': '192.168.0.101', 'port': 9004}\n",
      "Test passed\n",
      "Returning leader ip to client\n",
      "None\n",
      "db {'studentID': 20, 'class': '8:00', 'type': 'MS'} .\n",
      "Connection break with cordinator, Establishing connection...\n",
      "Checking for leader IP\n"
     ]
    },
    {
     "ename": "Exception",
     "evalue": "Cordinator is down, Please Try again later",
     "output_type": "error",
     "traceback": [
      "\u001b[0;31m---------------------------------------------------------------------------\u001b[0m",
      "\u001b[0;31mConnectionResetError\u001b[0m                      Traceback (most recent call last)",
      "\u001b[0;32m~/Documents/University/Ms-Stuttgart/Semester-2/Distributed System/Project/key-value-store Database/Replicated-Causal-Consistent-CRDT-Database/total_order_testing/client-notebook/keyvalue_client.py\u001b[0m in \u001b[0;36mrecv_data\u001b[0;34m(self)\u001b[0m\n\u001b[1;32m     59\u001b[0m         \u001b[0;32mtry\u001b[0m\u001b[0;34m:\u001b[0m\u001b[0;34m\u001b[0m\u001b[0;34m\u001b[0m\u001b[0m\n\u001b[0;32m---> 60\u001b[0;31m             \u001b[0mdata\u001b[0m \u001b[0;34m=\u001b[0m \u001b[0mself\u001b[0m\u001b[0;34m.\u001b[0m\u001b[0mclient_conn\u001b[0m\u001b[0;34m.\u001b[0m\u001b[0mrecv\u001b[0m\u001b[0;34m(\u001b[0m\u001b[0;36m1024\u001b[0m\u001b[0;34m)\u001b[0m\u001b[0;34m\u001b[0m\u001b[0;34m\u001b[0m\u001b[0m\n\u001b[0m\u001b[1;32m     61\u001b[0m             \u001b[0;32mreturn\u001b[0m \u001b[0mdata\u001b[0m\u001b[0;34m\u001b[0m\u001b[0;34m\u001b[0m\u001b[0m\n",
      "\u001b[0;31mConnectionResetError\u001b[0m: [Errno 54] Connection reset by peer",
      "\nDuring handling of the above exception, another exception occurred:\n",
      "\u001b[0;31mException\u001b[0m                                 Traceback (most recent call last)",
      "\u001b[0;32m<ipython-input-52-5aed2c498989>\u001b[0m in \u001b[0;36m<module>\u001b[0;34m\u001b[0m\n\u001b[1;32m      2\u001b[0m \u001b[0;32mfor\u001b[0m \u001b[0mi\u001b[0m \u001b[0;32min\u001b[0m \u001b[0mrange\u001b[0m\u001b[0;34m(\u001b[0m\u001b[0;36m100\u001b[0m\u001b[0;34m)\u001b[0m\u001b[0;34m:\u001b[0m\u001b[0;34m\u001b[0m\u001b[0;34m\u001b[0m\u001b[0m\n\u001b[1;32m      3\u001b[0m     \u001b[0mbody\u001b[0m \u001b[0;34m=\u001b[0m \u001b[0;34m{\u001b[0m\u001b[0;34m\"studentID\"\u001b[0m\u001b[0;34m:\u001b[0m\u001b[0mi\u001b[0m\u001b[0;34m+\u001b[0m\u001b[0;36m1\u001b[0m\u001b[0;34m,\u001b[0m\u001b[0;34m\"class\"\u001b[0m\u001b[0;34m:\u001b[0m\u001b[0;34m\"8:00\"\u001b[0m\u001b[0;34m,\u001b[0m\u001b[0;34m\"type\"\u001b[0m\u001b[0;34m:\u001b[0m\u001b[0;34m\"MS\"\u001b[0m\u001b[0;34m}\u001b[0m\u001b[0;34m\u001b[0m\u001b[0;34m\u001b[0m\u001b[0m\n\u001b[0;32m----> 4\u001b[0;31m     \u001b[0mprint\u001b[0m\u001b[0;34m(\u001b[0m\u001b[0mdb_conn\u001b[0m\u001b[0;34m.\u001b[0m\u001b[0mwrite\u001b[0m\u001b[0;34m(\u001b[0m\u001b[0mbucket_name\u001b[0m\u001b[0;34m=\u001b[0m\u001b[0;34m\"db\"\u001b[0m\u001b[0;34m,\u001b[0m\u001b[0mbody\u001b[0m\u001b[0;34m=\u001b[0m\u001b[0mbody\u001b[0m\u001b[0;34m)\u001b[0m\u001b[0;34m)\u001b[0m\u001b[0;34m\u001b[0m\u001b[0;34m\u001b[0m\u001b[0m\n\u001b[0m\u001b[1;32m      5\u001b[0m     \u001b[0mtime\u001b[0m\u001b[0;34m.\u001b[0m\u001b[0msleep\u001b[0m\u001b[0;34m(\u001b[0m\u001b[0;36m1\u001b[0m\u001b[0;34m)\u001b[0m\u001b[0;34m\u001b[0m\u001b[0;34m\u001b[0m\u001b[0m\n\u001b[1;32m      6\u001b[0m \u001b[0;34m\u001b[0m\u001b[0m\n",
      "\u001b[0;32m~/Documents/University/Ms-Stuttgart/Semester-2/Distributed System/Project/key-value-store Database/Replicated-Causal-Consistent-CRDT-Database/total_order_testing/client-notebook/keyvalue_client.py\u001b[0m in \u001b[0;36mwrite\u001b[0;34m(self, bucket_name, body)\u001b[0m\n\u001b[1;32m     84\u001b[0m         \u001b[0mself\u001b[0m\u001b[0;34m.\u001b[0m\u001b[0msend_data\u001b[0m\u001b[0;34m(\u001b[0m\u001b[0mmessage\u001b[0m\u001b[0;34m)\u001b[0m\u001b[0;34m\u001b[0m\u001b[0;34m\u001b[0m\u001b[0m\n\u001b[1;32m     85\u001b[0m         \u001b[0;31m#print(\"Writing data to DB successfulyy\")\u001b[0m\u001b[0;34m\u001b[0m\u001b[0;34m\u001b[0m\u001b[0;34m\u001b[0m\u001b[0m\n\u001b[0;32m---> 86\u001b[0;31m         \u001b[0mdata\u001b[0m \u001b[0;34m=\u001b[0m \u001b[0mself\u001b[0m\u001b[0;34m.\u001b[0m\u001b[0mrecv_data\u001b[0m\u001b[0;34m(\u001b[0m\u001b[0;34m)\u001b[0m\u001b[0;34m\u001b[0m\u001b[0;34m\u001b[0m\u001b[0m\n\u001b[0m\u001b[1;32m     87\u001b[0m         \u001b[0;32mif\u001b[0m \u001b[0mdata\u001b[0m\u001b[0;34m:\u001b[0m\u001b[0;34m\u001b[0m\u001b[0;34m\u001b[0m\u001b[0m\n\u001b[1;32m     88\u001b[0m             \u001b[0mdata\u001b[0m \u001b[0;34m=\u001b[0m \u001b[0mself\u001b[0m\u001b[0;34m.\u001b[0m\u001b[0mdecode_data\u001b[0m\u001b[0;34m(\u001b[0m\u001b[0mdata\u001b[0m\u001b[0;34m)\u001b[0m\u001b[0;34m\u001b[0m\u001b[0;34m\u001b[0m\u001b[0m\n",
      "\u001b[0;32m~/Documents/University/Ms-Stuttgart/Semester-2/Distributed System/Project/key-value-store Database/Replicated-Causal-Consistent-CRDT-Database/total_order_testing/client-notebook/keyvalue_client.py\u001b[0m in \u001b[0;36mrecv_data\u001b[0;34m(self)\u001b[0m\n\u001b[1;32m     62\u001b[0m         \u001b[0;32mexcept\u001b[0m \u001b[0msocket\u001b[0m\u001b[0;34m.\u001b[0m\u001b[0merror\u001b[0m\u001b[0;34m:\u001b[0m\u001b[0;34m\u001b[0m\u001b[0;34m\u001b[0m\u001b[0m\n\u001b[1;32m     63\u001b[0m             \u001b[0mprint\u001b[0m\u001b[0;34m(\u001b[0m\u001b[0;34m\"Connection break with cordinator, Establishing connection...\"\u001b[0m\u001b[0;34m)\u001b[0m\u001b[0;34m\u001b[0m\u001b[0;34m\u001b[0m\u001b[0m\n\u001b[0;32m---> 64\u001b[0;31m             \u001b[0mself\u001b[0m\u001b[0;34m.\u001b[0m\u001b[0mestablish_connection\u001b[0m\u001b[0;34m(\u001b[0m\u001b[0;34m)\u001b[0m\u001b[0;34m\u001b[0m\u001b[0;34m\u001b[0m\u001b[0m\n\u001b[0m\u001b[1;32m     65\u001b[0m         \u001b[0;32mreturn\u001b[0m \u001b[0;32mNone\u001b[0m\u001b[0;34m\u001b[0m\u001b[0;34m\u001b[0m\u001b[0m\n\u001b[1;32m     66\u001b[0m             \u001b[0;31m#raise Exception(\"Error while reading write response..\")\u001b[0m\u001b[0;34m\u001b[0m\u001b[0;34m\u001b[0m\u001b[0;34m\u001b[0m\u001b[0m\n",
      "\u001b[0;32m~/Documents/University/Ms-Stuttgart/Semester-2/Distributed System/Project/key-value-store Database/Replicated-Causal-Consistent-CRDT-Database/total_order_testing/client-notebook/keyvalue_client.py\u001b[0m in \u001b[0;36mestablish_connection\u001b[0;34m(self)\u001b[0m\n\u001b[1;32m     23\u001b[0m         \"\"\"\n\u001b[1;32m     24\u001b[0m \u001b[0;34m\u001b[0m\u001b[0m\n\u001b[0;32m---> 25\u001b[0;31m         \u001b[0mself\u001b[0m\u001b[0;34m.\u001b[0m\u001b[0mcord_ip\u001b[0m\u001b[0;34m,\u001b[0m \u001b[0mself\u001b[0m\u001b[0;34m.\u001b[0m\u001b[0mcord_port\u001b[0m \u001b[0;34m=\u001b[0m \u001b[0mself\u001b[0m\u001b[0;34m.\u001b[0m\u001b[0macquire_cordinator\u001b[0m\u001b[0;34m(\u001b[0m\u001b[0;34m)\u001b[0m\u001b[0;34m\u001b[0m\u001b[0;34m\u001b[0m\u001b[0m\n\u001b[0m\u001b[1;32m     26\u001b[0m         \u001b[0mself\u001b[0m\u001b[0;34m.\u001b[0m\u001b[0mclient_conn\u001b[0m \u001b[0;34m=\u001b[0m \u001b[0mself\u001b[0m\u001b[0;34m.\u001b[0m\u001b[0mget_tcp_sock\u001b[0m\u001b[0;34m(\u001b[0m\u001b[0;34m)\u001b[0m\u001b[0;34m\u001b[0m\u001b[0;34m\u001b[0m\u001b[0m\n\u001b[1;32m     27\u001b[0m         \u001b[0mself\u001b[0m\u001b[0;34m.\u001b[0m\u001b[0mclient_conn\u001b[0m\u001b[0;34m.\u001b[0m\u001b[0mconnect\u001b[0m\u001b[0;34m(\u001b[0m\u001b[0;34m(\u001b[0m\u001b[0mself\u001b[0m\u001b[0;34m.\u001b[0m\u001b[0mcord_ip\u001b[0m\u001b[0;34m,\u001b[0m \u001b[0mself\u001b[0m\u001b[0;34m.\u001b[0m\u001b[0mcord_port\u001b[0m\u001b[0;34m)\u001b[0m\u001b[0;34m)\u001b[0m\u001b[0;34m\u001b[0m\u001b[0;34m\u001b[0m\u001b[0m\n",
      "\u001b[0;32m~/Documents/University/Ms-Stuttgart/Semester-2/Distributed System/Project/key-value-store Database/Replicated-Causal-Consistent-CRDT-Database/total_order_testing/client-notebook/keyvalue_client.py\u001b[0m in \u001b[0;36macquire_cordinator\u001b[0;34m(self)\u001b[0m\n\u001b[1;32m    161\u001b[0m             \u001b[0mbroad\u001b[0m \u001b[0;34m=\u001b[0m \u001b[0mself\u001b[0m\u001b[0;34m.\u001b[0m\u001b[0mget_broad_cast_send_socket\u001b[0m\u001b[0;34m(\u001b[0m\u001b[0;34m)\u001b[0m\u001b[0;34m\u001b[0m\u001b[0;34m\u001b[0m\u001b[0m\n\u001b[1;32m    162\u001b[0m             \u001b[0mself\u001b[0m\u001b[0;34m.\u001b[0m\u001b[0msend_ping_to_cordinator\u001b[0m\u001b[0;34m(\u001b[0m\u001b[0mbroad\u001b[0m\u001b[0;34m)\u001b[0m\u001b[0;34m\u001b[0m\u001b[0;34m\u001b[0m\u001b[0m\n\u001b[0;32m--> 163\u001b[0;31m         \u001b[0;32mraise\u001b[0m \u001b[0mException\u001b[0m\u001b[0;34m(\u001b[0m\u001b[0;34m\"Cordinator is down, Please Try again later\"\u001b[0m\u001b[0;34m)\u001b[0m\u001b[0;34m\u001b[0m\u001b[0;34m\u001b[0m\u001b[0m\n\u001b[0m\u001b[1;32m    164\u001b[0m \u001b[0;34m\u001b[0m\u001b[0m\n\u001b[1;32m    165\u001b[0m     \u001b[0;32mdef\u001b[0m \u001b[0mget_tcp_sock\u001b[0m\u001b[0;34m(\u001b[0m\u001b[0mself\u001b[0m\u001b[0;34m)\u001b[0m\u001b[0;34m:\u001b[0m\u001b[0;34m\u001b[0m\u001b[0;34m\u001b[0m\u001b[0m\n",
      "\u001b[0;31mException\u001b[0m: Cordinator is down, Please Try again later"
     ]
    }
   ],
   "source": [
    "# stress testing\n",
    "for i in range(100):\n",
    "    body = {\"studentID\":i+1,\"class\":\"8:00\",\"type\":\"MS\"}\n",
    "    print(db_conn.write(bucket_name=\"db\",body=body))\n",
    "    time.sleep(1)\n",
    "    "
   ]
  },
  {
   "cell_type": "markdown",
   "metadata": {},
   "source": [
    "# Reading Record By ID from database"
   ]
  },
  {
   "cell_type": "code",
   "execution_count": null,
   "metadata": {},
   "outputs": [],
   "source": []
  },
  {
   "cell_type": "code",
   "execution_count": 33,
   "metadata": {},
   "outputs": [
    {
     "name": "stdout",
     "output_type": "stream",
     "text": [
      "db 9 .\n"
     ]
    },
    {
     "data": {
      "text/plain": [
       "{'nodeID': '2',\n",
       " 'oper': 'response',\n",
       " 'message': {'success': 1, 'data': {'class': '8:00', 'type': 'MS'}},\n",
       " 'send_time': '01/07/2022, 19:44:50',\n",
       " 'timestamp': '01/07/2022, 19:44:50',\n",
       " 'sqn_no': 34}"
      ]
     },
     "execution_count": 33,
     "metadata": {},
     "output_type": "execute_result"
    }
   ],
   "source": [
    "db_conn.readbyID(bucket_name=\"db\",id=9)"
   ]
  },
  {
   "cell_type": "code",
   "execution_count": null,
   "metadata": {},
   "outputs": [],
   "source": []
  },
  {
   "cell_type": "markdown",
   "metadata": {},
   "source": [
    "# Deleting Record by ID"
   ]
  },
  {
   "cell_type": "code",
   "execution_count": 45,
   "metadata": {},
   "outputs": [],
   "source": [
    "lst = [i for i in range(101)]"
   ]
  },
  {
   "cell_type": "code",
   "execution_count": 46,
   "metadata": {},
   "outputs": [
    {
     "name": "stdout",
     "output_type": "stream",
     "text": [
      "db [0, 1, 2, 3, 4, 5, 6, 7, 8, 9, 10, 11, 12, 13, 14, 15, 16, 17, 18, 19, 20, 21, 22, 23, 24, 25, 26, 27, 28, 29, 30, 31, 32, 33, 34, 35, 36, 37, 38, 39, 40, 41, 42, 43, 44, 45, 46, 47, 48, 49, 50, 51, 52, 53, 54, 55, 56, 57, 58, 59, 60, 61, 62, 63, 64, 65, 66, 67, 68, 69, 70, 71, 72, 73, 74, 75, 76, 77, 78, 79, 80, 81, 82, 83, 84, 85, 86, 87, 88, 89, 90, 91, 92, 93, 94, 95, 96, 97, 98, 99, 100] .\n"
     ]
    },
    {
     "data": {
      "text/plain": [
       "{'nodeID': '7',\n",
       " 'oper': 'response',\n",
       " 'message': {'success': 1,\n",
       "  'data': 'No Record found with ID:[0, 1, 2, 3, 4, 5, 6, 7, 8, 9, 10, 11, 12, 13, 14, 15, 16, 17, 18, 19, 20, 21, 22, 23, 24, 25, 26, 27, 28, 29, 30, 31, 32, 33, 34, 35, 36, 37, 38, 39, 40, 41, 42, 43, 44, 45, 46, 47, 48, 49, 50, 51, 52, 53, 54, 55, 56, 57, 58, 59, 60, 61, 62, 63, 64, 65, 66, 67, 68, 69, 70, 71, 72, 73, 74, 75, 76, 77, 78, 79, 80, 81, 82, 83, 84, 85, 86, 87, 88, 89, 90, 91, 92, 93, 94, 95, 96, 97, 98, 99, 100]'},\n",
       " 'send_time': '01/07/2022, 19:59:20',\n",
       " 'timestamp': '01/07/2022, 19:59:20',\n",
       " 'sqn_no': 103}"
      ]
     },
     "execution_count": 46,
     "metadata": {},
     "output_type": "execute_result"
    }
   ],
   "source": [
    "db_conn.deletebyID(bucket_name=\"db\",id=lst)"
   ]
  },
  {
   "cell_type": "markdown",
   "metadata": {},
   "source": [
    "# Update record by ID"
   ]
  },
  {
   "cell_type": "code",
   "execution_count": null,
   "metadata": {},
   "outputs": [],
   "source": []
  }
 ],
 "metadata": {
  "kernelspec": {
   "display_name": "Python 3 (ipykernel)",
   "language": "python",
   "name": "python3"
  },
  "language_info": {
   "codemirror_mode": {
    "name": "ipython",
    "version": 3
   },
   "file_extension": ".py",
   "mimetype": "text/x-python",
   "name": "python",
   "nbconvert_exporter": "python",
   "pygments_lexer": "ipython3",
   "version": "3.7.10"
  }
 },
 "nbformat": 4,
 "nbformat_minor": 4
}
