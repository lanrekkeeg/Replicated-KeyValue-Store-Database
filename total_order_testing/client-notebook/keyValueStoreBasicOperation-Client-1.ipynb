{
 "cells": [
  {
   "cell_type": "code",
   "execution_count": 97,
   "metadata": {},
   "outputs": [],
   "source": [
    "import sys\n",
    "sys.path.append(\"..\")\n"
   ]
  },
  {
   "cell_type": "code",
   "execution_count": 98,
   "metadata": {},
   "outputs": [],
   "source": [
    "from keyvalue_client import KeyStore\n",
    "import time"
   ]
  },
  {
   "cell_type": "code",
   "execution_count": 99,
   "metadata": {},
   "outputs": [
    {
     "name": "stdout",
     "output_type": "stream",
     "text": [
      "Checking for leader IP\n",
      "{'nodeID': '2', 'oper': 'response', 'message': {'leader': 2, 'host': '192.168.0.103', 'port': 9006}}\n",
      "Leader data is {'leader': 2, 'host': '192.168.0.103', 'port': 9006}\n",
      "Test passed\n",
      "Returning leader ip to client\n"
     ]
    }
   ],
   "source": [
    "db_conn = KeyStore()"
   ]
  },
  {
   "cell_type": "markdown",
   "metadata": {},
   "source": [
    "# Writing data to DataBase"
   ]
  },
  {
   "cell_type": "code",
   "execution_count": 100,
   "metadata": {},
   "outputs": [],
   "source": [
    "body = {\"studentID\":1,\"class\":\"8:00\",\"type\":\"MS\"}\n"
   ]
  },
  {
   "cell_type": "code",
   "execution_count": 101,
   "metadata": {},
   "outputs": [
    {
     "name": "stdout",
     "output_type": "stream",
     "text": [
      "db {'studentID': 1, 'class': '8:00', 'type': 'MS'} .\n"
     ]
    },
    {
     "data": {
      "text/plain": [
       "{'multicast': True,\n",
       " 'nodeID': '2',\n",
       " 'oper': 'response',\n",
       " 'message': {'success': 1, 'data': 'Record added, ID is 2'},\n",
       " 'send_time': '02/14/2022, 00:03:36',\n",
       " 'timestamp': '02/14/2022, 00:03:36',\n",
       " 'sqn_no': 2}"
      ]
     },
     "execution_count": 101,
     "metadata": {},
     "output_type": "execute_result"
    }
   ],
   "source": [
    "db_conn.write(bucket_name=\"db\",body=body)"
   ]
  },
  {
   "cell_type": "markdown",
   "metadata": {},
   "source": [
    "### Stress testing"
   ]
  },
  {
   "cell_type": "code",
   "execution_count": 102,
   "metadata": {},
   "outputs": [
    {
     "name": "stdout",
     "output_type": "stream",
     "text": [
      "db {'studentID': 1, 'class': '8:00', 'type': 'MS'} .\n",
      "{'multicast': True, 'nodeID': '2', 'oper': 'response', 'message': {'success': 1, 'data': 'Record added, ID is 3'}, 'send_time': '02/14/2022, 00:05:12', 'timestamp': '02/14/2022, 00:05:12', 'sqn_no': 3}\n",
      "db {'studentID': 2, 'class': '8:00', 'type': 'MS'} .\n",
      "{'multicast': True, 'nodeID': '2', 'oper': 'response', 'message': {'success': 1, 'data': 'Record added, ID is 4'}, 'send_time': '02/14/2022, 00:05:13', 'timestamp': '02/14/2022, 00:05:13', 'sqn_no': 4}\n",
      "db {'studentID': 3, 'class': '8:00', 'type': 'MS'} .\n",
      "{'multicast': True, 'nodeID': '2', 'oper': 'response', 'message': {'success': 1, 'data': 'Record added, ID is 5'}, 'send_time': '02/14/2022, 00:05:14', 'timestamp': '02/14/2022, 00:05:14', 'sqn_no': 5}\n",
      "db {'studentID': 4, 'class': '8:00', 'type': 'MS'} .\n",
      "{'multicast': True, 'nodeID': '2', 'oper': 'response', 'message': {'success': 1, 'data': 'Record added, ID is 6'}, 'send_time': '02/14/2022, 00:05:15', 'timestamp': '02/14/2022, 00:05:15', 'sqn_no': 6}\n",
      "db {'studentID': 5, 'class': '8:00', 'type': 'MS'} .\n",
      "{'multicast': True, 'nodeID': '2', 'oper': 'response', 'message': {'success': 1, 'data': 'Record added, ID is 7'}, 'send_time': '02/14/2022, 00:05:16', 'timestamp': '02/14/2022, 00:05:16', 'sqn_no': 7}\n",
      "db {'studentID': 6, 'class': '8:00', 'type': 'MS'} .\n",
      "{'multicast': True, 'nodeID': '2', 'oper': 'response', 'message': {'success': 1, 'data': 'Record added, ID is 8'}, 'send_time': '02/14/2022, 00:05:18', 'timestamp': '02/14/2022, 00:05:18', 'sqn_no': 8}\n",
      "db {'studentID': 7, 'class': '8:00', 'type': 'MS'} .\n",
      "{'multicast': True, 'nodeID': '2', 'oper': 'response', 'message': {'success': 1, 'data': 'Record added, ID is 9'}, 'send_time': '02/14/2022, 00:05:19', 'timestamp': '02/14/2022, 00:05:19', 'sqn_no': 9}\n",
      "db {'studentID': 8, 'class': '8:00', 'type': 'MS'} .\n",
      "{'multicast': True, 'nodeID': '2', 'oper': 'response', 'message': {'success': 1, 'data': 'Record added, ID is 10'}, 'send_time': '02/14/2022, 00:05:20', 'timestamp': '02/14/2022, 00:05:20', 'sqn_no': 10}\n",
      "db {'studentID': 9, 'class': '8:00', 'type': 'MS'} .\n",
      "{'multicast': True, 'nodeID': '2', 'oper': 'response', 'message': {'success': 1, 'data': 'Record added, ID is 11'}, 'send_time': '02/14/2022, 00:05:21', 'timestamp': '02/14/2022, 00:05:21', 'sqn_no': 11}\n",
      "db {'studentID': 10, 'class': '8:00', 'type': 'MS'} .\n",
      "{'multicast': True, 'nodeID': '2', 'oper': 'response', 'message': {'success': 1, 'data': 'Record added, ID is 12'}, 'send_time': '02/14/2022, 00:05:22', 'timestamp': '02/14/2022, 00:05:22', 'sqn_no': 12}\n",
      "db {'studentID': 11, 'class': '8:00', 'type': 'MS'} .\n",
      "{'multicast': True, 'nodeID': '2', 'oper': 'response', 'message': {'success': 1, 'data': 'Record added, ID is 13'}, 'send_time': '02/14/2022, 00:05:24', 'timestamp': '02/14/2022, 00:05:24', 'sqn_no': 13}\n",
      "db {'studentID': 12, 'class': '8:00', 'type': 'MS'} .\n",
      "{'multicast': True, 'nodeID': '2', 'oper': 'response', 'message': {'success': 1, 'data': 'Record added, ID is 14'}, 'send_time': '02/14/2022, 00:05:25', 'timestamp': '02/14/2022, 00:05:25', 'sqn_no': 14}\n",
      "db {'studentID': 13, 'class': '8:00', 'type': 'MS'} .\n",
      "{'multicast': True, 'nodeID': '2', 'oper': 'response', 'message': {'success': 1, 'data': 'Record added, ID is 15'}, 'send_time': '02/14/2022, 00:05:26', 'timestamp': '02/14/2022, 00:05:26', 'sqn_no': 15}\n",
      "db {'studentID': 14, 'class': '8:00', 'type': 'MS'} .\n",
      "{'multicast': True, 'nodeID': '2', 'oper': 'response', 'message': {'success': 1, 'data': 'Record added, ID is 16'}, 'send_time': '02/14/2022, 00:05:27', 'timestamp': '02/14/2022, 00:05:27', 'sqn_no': 16}\n",
      "db {'studentID': 15, 'class': '8:00', 'type': 'MS'} .\n",
      "{'multicast': True, 'nodeID': '2', 'oper': 'response', 'message': {'success': 1, 'data': 'Record added, ID is 17'}, 'send_time': '02/14/2022, 00:05:28', 'timestamp': '02/14/2022, 00:05:28', 'sqn_no': 17}\n",
      "db {'studentID': 16, 'class': '8:00', 'type': 'MS'} .\n",
      "{'multicast': True, 'nodeID': '2', 'oper': 'response', 'message': {'success': 1, 'data': 'Record added, ID is 18'}, 'send_time': '02/14/2022, 00:05:30', 'timestamp': '02/14/2022, 00:05:30', 'sqn_no': 18}\n",
      "db {'studentID': 17, 'class': '8:00', 'type': 'MS'} .\n",
      "{'multicast': True, 'nodeID': '2', 'oper': 'response', 'message': {'success': 1, 'data': 'Record added, ID is 19'}, 'send_time': '02/14/2022, 00:05:31', 'timestamp': '02/14/2022, 00:05:31', 'sqn_no': 19}\n",
      "db {'studentID': 18, 'class': '8:00', 'type': 'MS'} .\n",
      "{'multicast': True, 'nodeID': '2', 'oper': 'response', 'message': {'success': 1, 'data': 'Record added, ID is 20'}, 'send_time': '02/14/2022, 00:05:32', 'timestamp': '02/14/2022, 00:05:32', 'sqn_no': 20}\n",
      "db {'studentID': 19, 'class': '8:00', 'type': 'MS'} .\n",
      "{'multicast': True, 'nodeID': '2', 'oper': 'response', 'message': {'success': 1, 'data': 'Record added, ID is 21'}, 'send_time': '02/14/2022, 00:05:33', 'timestamp': '02/14/2022, 00:05:33', 'sqn_no': 21}\n",
      "db {'studentID': 20, 'class': '8:00', 'type': 'MS'} .\n",
      "{'multicast': True, 'nodeID': '2', 'oper': 'response', 'message': {'success': 1, 'data': 'Record added, ID is 22'}, 'send_time': '02/14/2022, 00:05:35', 'timestamp': '02/14/2022, 00:05:35', 'sqn_no': 22}\n",
      "db {'studentID': 21, 'class': '8:00', 'type': 'MS'} .\n",
      "{'multicast': True, 'nodeID': '2', 'oper': 'response', 'message': {'success': 1, 'data': 'Record added, ID is 23'}, 'send_time': '02/14/2022, 00:05:36', 'timestamp': '02/14/2022, 00:05:36', 'sqn_no': 23}\n",
      "db {'studentID': 22, 'class': '8:00', 'type': 'MS'} .\n",
      "{'multicast': True, 'nodeID': '2', 'oper': 'response', 'message': {'success': 1, 'data': 'Record added, ID is 24'}, 'send_time': '02/14/2022, 00:05:37', 'timestamp': '02/14/2022, 00:05:37', 'sqn_no': 24}\n",
      "db {'studentID': 23, 'class': '8:00', 'type': 'MS'} .\n",
      "{'multicast': True, 'nodeID': '2', 'oper': 'response', 'message': {'success': 1, 'data': 'Record added, ID is 25'}, 'send_time': '02/14/2022, 00:05:38', 'timestamp': '02/14/2022, 00:05:38', 'sqn_no': 25}\n",
      "db {'studentID': 24, 'class': '8:00', 'type': 'MS'} .\n",
      "{'multicast': True, 'nodeID': '2', 'oper': 'response', 'message': {'success': 1, 'data': 'Record added, ID is 26'}, 'send_time': '02/14/2022, 00:05:39', 'timestamp': '02/14/2022, 00:05:39', 'sqn_no': 26}\n",
      "db {'studentID': 25, 'class': '8:00', 'type': 'MS'} .\n",
      "{'multicast': True, 'nodeID': '2', 'oper': 'response', 'message': {'success': 1, 'data': 'Record added, ID is 27'}, 'send_time': '02/14/2022, 00:05:41', 'timestamp': '02/14/2022, 00:05:41', 'sqn_no': 27}\n",
      "db {'studentID': 26, 'class': '8:00', 'type': 'MS'} .\n",
      "{'multicast': True, 'nodeID': '2', 'oper': 'response', 'message': {'success': 1, 'data': 'Record added, ID is 28'}, 'send_time': '02/14/2022, 00:05:42', 'timestamp': '02/14/2022, 00:05:42', 'sqn_no': 28}\n",
      "db {'studentID': 27, 'class': '8:00', 'type': 'MS'} .\n",
      "{'multicast': True, 'nodeID': '2', 'oper': 'response', 'message': {'success': 1, 'data': 'Record added, ID is 29'}, 'send_time': '02/14/2022, 00:05:43', 'timestamp': '02/14/2022, 00:05:43', 'sqn_no': 29}\n",
      "db {'studentID': 28, 'class': '8:00', 'type': 'MS'} .\n",
      "{'multicast': True, 'nodeID': '2', 'oper': 'response', 'message': {'success': 1, 'data': 'Record added, ID is 30'}, 'send_time': '02/14/2022, 00:05:44', 'timestamp': '02/14/2022, 00:05:44', 'sqn_no': 30}\n",
      "db {'studentID': 29, 'class': '8:00', 'type': 'MS'} .\n",
      "{'multicast': True, 'nodeID': '2', 'oper': 'response', 'message': {'success': 1, 'data': 'Record added, ID is 31'}, 'send_time': '02/14/2022, 00:05:45', 'timestamp': '02/14/2022, 00:05:45', 'sqn_no': 31}\n",
      "db {'studentID': 30, 'class': '8:00', 'type': 'MS'} .\n",
      "{'multicast': True, 'nodeID': '2', 'oper': 'response', 'message': {'success': 1, 'data': 'Record added, ID is 32'}, 'send_time': '02/14/2022, 00:05:47', 'timestamp': '02/14/2022, 00:05:47', 'sqn_no': 32}\n",
      "db {'studentID': 31, 'class': '8:00', 'type': 'MS'} .\n",
      "{'multicast': True, 'nodeID': '2', 'oper': 'response', 'message': {'success': 1, 'data': 'Record added, ID is 33'}, 'send_time': '02/14/2022, 00:05:48', 'timestamp': '02/14/2022, 00:05:48', 'sqn_no': 33}\n",
      "db {'studentID': 32, 'class': '8:00', 'type': 'MS'} .\n",
      "{'multicast': True, 'nodeID': '2', 'oper': 'response', 'message': {'success': 1, 'data': 'Record added, ID is 34'}, 'send_time': '02/14/2022, 00:05:49', 'timestamp': '02/14/2022, 00:05:49', 'sqn_no': 34}\n"
     ]
    },
    {
     "name": "stdout",
     "output_type": "stream",
     "text": [
      "db {'studentID': 33, 'class': '8:00', 'type': 'MS'} .\n",
      "{'multicast': True, 'nodeID': '2', 'oper': 'response', 'message': {'success': 1, 'data': 'Record added, ID is 35'}, 'send_time': '02/14/2022, 00:05:50', 'timestamp': '02/14/2022, 00:05:50', 'sqn_no': 35}\n",
      "db {'studentID': 34, 'class': '8:00', 'type': 'MS'} .\n",
      "{'multicast': True, 'nodeID': '2', 'oper': 'response', 'message': {'success': 1, 'data': 'Record added, ID is 36'}, 'send_time': '02/14/2022, 00:05:51', 'timestamp': '02/14/2022, 00:05:51', 'sqn_no': 36}\n",
      "db {'studentID': 35, 'class': '8:00', 'type': 'MS'} .\n",
      "{'multicast': True, 'nodeID': '2', 'oper': 'response', 'message': {'success': 1, 'data': 'Record added, ID is 37'}, 'send_time': '02/14/2022, 00:05:53', 'timestamp': '02/14/2022, 00:05:53', 'sqn_no': 37}\n",
      "db {'studentID': 36, 'class': '8:00', 'type': 'MS'} .\n",
      "{'multicast': True, 'nodeID': '2', 'oper': 'response', 'message': {'success': 1, 'data': 'Record added, ID is 38'}, 'send_time': '02/14/2022, 00:05:54', 'timestamp': '02/14/2022, 00:05:54', 'sqn_no': 38}\n",
      "db {'studentID': 37, 'class': '8:00', 'type': 'MS'} .\n",
      "{'multicast': True, 'nodeID': '2', 'oper': 'response', 'message': {'success': 1, 'data': 'Record added, ID is 39'}, 'send_time': '02/14/2022, 00:05:55', 'timestamp': '02/14/2022, 00:05:55', 'sqn_no': 39}\n",
      "db {'studentID': 38, 'class': '8:00', 'type': 'MS'} .\n",
      "{'multicast': True, 'nodeID': '2', 'oper': 'response', 'message': {'success': 1, 'data': 'Record added, ID is 40'}, 'send_time': '02/14/2022, 00:05:56', 'timestamp': '02/14/2022, 00:05:56', 'sqn_no': 40}\n",
      "db {'studentID': 39, 'class': '8:00', 'type': 'MS'} .\n",
      "{'multicast': True, 'nodeID': '2', 'oper': 'response', 'message': {'success': 1, 'data': 'Record added, ID is 41'}, 'send_time': '02/14/2022, 00:05:57', 'timestamp': '02/14/2022, 00:05:57', 'sqn_no': 41}\n",
      "db {'studentID': 40, 'class': '8:00', 'type': 'MS'} .\n",
      "{'multicast': True, 'nodeID': '2', 'oper': 'response', 'message': {'success': 1, 'data': 'Record added, ID is 42'}, 'send_time': '02/14/2022, 00:05:59', 'timestamp': '02/14/2022, 00:05:59', 'sqn_no': 42}\n",
      "db {'studentID': 41, 'class': '8:00', 'type': 'MS'} .\n",
      "{'multicast': True, 'nodeID': '2', 'oper': 'response', 'message': {'success': 1, 'data': 'Record added, ID is 43'}, 'send_time': '02/14/2022, 00:06:00', 'timestamp': '02/14/2022, 00:06:00', 'sqn_no': 43}\n",
      "db {'studentID': 42, 'class': '8:00', 'type': 'MS'} .\n",
      "{'multicast': True, 'nodeID': '2', 'oper': 'response', 'message': {'success': 1, 'data': 'Record added, ID is 44'}, 'send_time': '02/14/2022, 00:06:01', 'timestamp': '02/14/2022, 00:06:01', 'sqn_no': 44}\n",
      "db {'studentID': 43, 'class': '8:00', 'type': 'MS'} .\n",
      "{'multicast': True, 'nodeID': '2', 'oper': 'response', 'message': {'success': 1, 'data': 'Record added, ID is 45'}, 'send_time': '02/14/2022, 00:06:02', 'timestamp': '02/14/2022, 00:06:02', 'sqn_no': 45}\n",
      "db {'studentID': 44, 'class': '8:00', 'type': 'MS'} .\n",
      "{'multicast': True, 'nodeID': '2', 'oper': 'response', 'message': {'success': 1, 'data': 'Record added, ID is 46'}, 'send_time': '02/14/2022, 00:06:04', 'timestamp': '02/14/2022, 00:06:04', 'sqn_no': 46}\n",
      "db {'studentID': 45, 'class': '8:00', 'type': 'MS'} .\n",
      "{'multicast': True, 'nodeID': '2', 'oper': 'response', 'message': {'success': 1, 'data': 'Record added, ID is 47'}, 'send_time': '02/14/2022, 00:06:05', 'timestamp': '02/14/2022, 00:06:05', 'sqn_no': 47}\n",
      "db {'studentID': 46, 'class': '8:00', 'type': 'MS'} .\n",
      "{'multicast': True, 'nodeID': '2', 'oper': 'response', 'message': {'success': 1, 'data': 'Record added, ID is 48'}, 'send_time': '02/14/2022, 00:06:06', 'timestamp': '02/14/2022, 00:06:06', 'sqn_no': 48}\n",
      "db {'studentID': 47, 'class': '8:00', 'type': 'MS'} .\n",
      "{'multicast': True, 'nodeID': '2', 'oper': 'response', 'message': {'success': 1, 'data': 'Record added, ID is 49'}, 'send_time': '02/14/2022, 00:06:07', 'timestamp': '02/14/2022, 00:06:07', 'sqn_no': 49}\n",
      "db {'studentID': 48, 'class': '8:00', 'type': 'MS'} .\n",
      "{'multicast': True, 'nodeID': '2', 'oper': 'response', 'message': {'success': 1, 'data': 'Record added, ID is 50'}, 'send_time': '02/14/2022, 00:06:08', 'timestamp': '02/14/2022, 00:06:08', 'sqn_no': 50}\n",
      "db {'studentID': 49, 'class': '8:00', 'type': 'MS'} .\n",
      "{'multicast': True, 'nodeID': '2', 'oper': 'response', 'message': {'success': 1, 'data': 'Record added, ID is 51'}, 'send_time': '02/14/2022, 00:06:10', 'timestamp': '02/14/2022, 00:06:10', 'sqn_no': 51}\n",
      "db {'studentID': 50, 'class': '8:00', 'type': 'MS'} .\n",
      "{'multicast': True, 'nodeID': '2', 'oper': 'response', 'message': {'success': 1, 'data': 'Record added, ID is 52'}, 'send_time': '02/14/2022, 00:06:11', 'timestamp': '02/14/2022, 00:06:11', 'sqn_no': 52}\n",
      "db {'studentID': 51, 'class': '8:00', 'type': 'MS'} .\n",
      "{'multicast': True, 'nodeID': '2', 'oper': 'response', 'message': {'success': 1, 'data': 'Record added, ID is 53'}, 'send_time': '02/14/2022, 00:06:12', 'timestamp': '02/14/2022, 00:06:12', 'sqn_no': 53}\n",
      "db {'studentID': 52, 'class': '8:00', 'type': 'MS'} .\n",
      "{'multicast': True, 'nodeID': '2', 'oper': 'response', 'message': {'success': 1, 'data': 'Record added, ID is 54'}, 'send_time': '02/14/2022, 00:06:13', 'timestamp': '02/14/2022, 00:06:13', 'sqn_no': 54}\n",
      "db {'studentID': 53, 'class': '8:00', 'type': 'MS'} .\n",
      "{'multicast': True, 'nodeID': '2', 'oper': 'response', 'message': {'success': 1, 'data': 'Record added, ID is 55'}, 'send_time': '02/14/2022, 00:06:14', 'timestamp': '02/14/2022, 00:06:14', 'sqn_no': 55}\n",
      "db {'studentID': 54, 'class': '8:00', 'type': 'MS'} .\n",
      "{'multicast': True, 'nodeID': '2', 'oper': 'response', 'message': {'success': 1, 'data': 'Record added, ID is 56'}, 'send_time': '02/14/2022, 00:06:16', 'timestamp': '02/14/2022, 00:06:16', 'sqn_no': 56}\n",
      "db {'studentID': 55, 'class': '8:00', 'type': 'MS'} .\n",
      "{'multicast': True, 'nodeID': '2', 'oper': 'response', 'message': {'success': 1, 'data': 'Record added, ID is 57'}, 'send_time': '02/14/2022, 00:06:17', 'timestamp': '02/14/2022, 00:06:17', 'sqn_no': 57}\n",
      "db {'studentID': 56, 'class': '8:00', 'type': 'MS'} .\n",
      "{'multicast': True, 'nodeID': '2', 'oper': 'response', 'message': {'success': 1, 'data': 'Record added, ID is 58'}, 'send_time': '02/14/2022, 00:06:18', 'timestamp': '02/14/2022, 00:06:18', 'sqn_no': 58}\n",
      "db {'studentID': 57, 'class': '8:00', 'type': 'MS'} .\n",
      "{'multicast': True, 'nodeID': '2', 'oper': 'response', 'message': {'success': 1, 'data': 'Record added, ID is 59'}, 'send_time': '02/14/2022, 00:06:19', 'timestamp': '02/14/2022, 00:06:19', 'sqn_no': 59}\n",
      "db {'studentID': 58, 'class': '8:00', 'type': 'MS'} .\n",
      "{'multicast': True, 'nodeID': '2', 'oper': 'response', 'message': {'success': 1, 'data': 'Record added, ID is 60'}, 'send_time': '02/14/2022, 00:06:20', 'timestamp': '02/14/2022, 00:06:20', 'sqn_no': 60}\n",
      "db {'studentID': 59, 'class': '8:00', 'type': 'MS'} .\n",
      "{'multicast': True, 'nodeID': '2', 'oper': 'response', 'message': {'success': 1, 'data': 'Record added, ID is 61'}, 'send_time': '02/14/2022, 00:06:22', 'timestamp': '02/14/2022, 00:06:22', 'sqn_no': 61}\n",
      "db {'studentID': 60, 'class': '8:00', 'type': 'MS'} .\n",
      "{'multicast': True, 'nodeID': '2', 'oper': 'response', 'message': {'success': 1, 'data': 'Record added, ID is 62'}, 'send_time': '02/14/2022, 00:06:23', 'timestamp': '02/14/2022, 00:06:23', 'sqn_no': 62}\n",
      "db {'studentID': 61, 'class': '8:00', 'type': 'MS'} .\n",
      "{'multicast': True, 'nodeID': '2', 'oper': 'response', 'message': {'success': 1, 'data': 'Record added, ID is 63'}, 'send_time': '02/14/2022, 00:06:24', 'timestamp': '02/14/2022, 00:06:24', 'sqn_no': 63}\n",
      "db {'studentID': 62, 'class': '8:00', 'type': 'MS'} .\n",
      "{'multicast': True, 'nodeID': '2', 'oper': 'response', 'message': {'success': 1, 'data': 'Record added, ID is 64'}, 'send_time': '02/14/2022, 00:06:25', 'timestamp': '02/14/2022, 00:06:25', 'sqn_no': 64}\n",
      "db {'studentID': 63, 'class': '8:00', 'type': 'MS'} .\n",
      "{'multicast': True, 'nodeID': '2', 'oper': 'response', 'message': {'success': 1, 'data': 'Record added, ID is 65'}, 'send_time': '02/14/2022, 00:06:26', 'timestamp': '02/14/2022, 00:06:26', 'sqn_no': 65}\n",
      "db {'studentID': 64, 'class': '8:00', 'type': 'MS'} .\n",
      "{'multicast': True, 'nodeID': '2', 'oper': 'response', 'message': {'success': 1, 'data': 'Record added, ID is 66'}, 'send_time': '02/14/2022, 00:06:28', 'timestamp': '02/14/2022, 00:06:28', 'sqn_no': 66}\n"
     ]
    },
    {
     "name": "stdout",
     "output_type": "stream",
     "text": [
      "db {'studentID': 65, 'class': '8:00', 'type': 'MS'} .\n",
      "{'multicast': True, 'nodeID': '2', 'oper': 'response', 'message': {'success': 1, 'data': 'Record added, ID is 67'}, 'send_time': '02/14/2022, 00:06:29', 'timestamp': '02/14/2022, 00:06:29', 'sqn_no': 67}\n",
      "db {'studentID': 66, 'class': '8:00', 'type': 'MS'} .\n",
      "{'multicast': True, 'nodeID': '2', 'oper': 'response', 'message': {'success': 1, 'data': 'Record added, ID is 68'}, 'send_time': '02/14/2022, 00:06:30', 'timestamp': '02/14/2022, 00:06:30', 'sqn_no': 68}\n",
      "db {'studentID': 67, 'class': '8:00', 'type': 'MS'} .\n",
      "{'multicast': True, 'nodeID': '2', 'oper': 'response', 'message': {'success': 1, 'data': 'Record added, ID is 69'}, 'send_time': '02/14/2022, 00:06:31', 'timestamp': '02/14/2022, 00:06:31', 'sqn_no': 69}\n",
      "db {'studentID': 68, 'class': '8:00', 'type': 'MS'} .\n",
      "{'multicast': True, 'nodeID': '2', 'oper': 'response', 'message': {'success': 1, 'data': 'Record added, ID is 70'}, 'send_time': '02/14/2022, 00:06:33', 'timestamp': '02/14/2022, 00:06:33', 'sqn_no': 70}\n",
      "db {'studentID': 69, 'class': '8:00', 'type': 'MS'} .\n",
      "{'multicast': True, 'nodeID': '2', 'oper': 'response', 'message': {'success': 1, 'data': 'Record added, ID is 71'}, 'send_time': '02/14/2022, 00:06:34', 'timestamp': '02/14/2022, 00:06:34', 'sqn_no': 71}\n",
      "db {'studentID': 70, 'class': '8:00', 'type': 'MS'} .\n",
      "{'multicast': True, 'nodeID': '2', 'oper': 'response', 'message': {'success': 1, 'data': 'Record added, ID is 72'}, 'send_time': '02/14/2022, 00:06:35', 'timestamp': '02/14/2022, 00:06:35', 'sqn_no': 72}\n",
      "db {'studentID': 71, 'class': '8:00', 'type': 'MS'} .\n",
      "{'multicast': True, 'nodeID': '2', 'oper': 'response', 'message': {'success': 1, 'data': 'Record added, ID is 73'}, 'send_time': '02/14/2022, 00:06:36', 'timestamp': '02/14/2022, 00:06:36', 'sqn_no': 73}\n",
      "db {'studentID': 72, 'class': '8:00', 'type': 'MS'} .\n",
      "{'multicast': True, 'nodeID': '2', 'oper': 'response', 'message': {'success': 1, 'data': 'Record added, ID is 74'}, 'send_time': '02/14/2022, 00:06:37', 'timestamp': '02/14/2022, 00:06:37', 'sqn_no': 74}\n",
      "db {'studentID': 73, 'class': '8:00', 'type': 'MS'} .\n",
      "{'multicast': True, 'nodeID': '2', 'oper': 'response', 'message': {'success': 1, 'data': 'Record added, ID is 75'}, 'send_time': '02/14/2022, 00:06:39', 'timestamp': '02/14/2022, 00:06:39', 'sqn_no': 75}\n",
      "db {'studentID': 74, 'class': '8:00', 'type': 'MS'} .\n",
      "{'multicast': True, 'nodeID': '2', 'oper': 'response', 'message': {'success': 1, 'data': 'Record added, ID is 76'}, 'send_time': '02/14/2022, 00:06:40', 'timestamp': '02/14/2022, 00:06:40', 'sqn_no': 76}\n",
      "db {'studentID': 75, 'class': '8:00', 'type': 'MS'} .\n",
      "{'multicast': True, 'nodeID': '2', 'oper': 'response', 'message': {'success': 1, 'data': 'Record added, ID is 77'}, 'send_time': '02/14/2022, 00:06:41', 'timestamp': '02/14/2022, 00:06:41', 'sqn_no': 77}\n",
      "db {'studentID': 76, 'class': '8:00', 'type': 'MS'} .\n",
      "{'multicast': True, 'nodeID': '2', 'oper': 'response', 'message': {'success': 1, 'data': 'Record added, ID is 78'}, 'send_time': '02/14/2022, 00:06:42', 'timestamp': '02/14/2022, 00:06:42', 'sqn_no': 78}\n",
      "db {'studentID': 77, 'class': '8:00', 'type': 'MS'} .\n",
      "{'multicast': True, 'nodeID': '2', 'oper': 'response', 'message': {'success': 1, 'data': 'Record added, ID is 79'}, 'send_time': '02/14/2022, 00:06:43', 'timestamp': '02/14/2022, 00:06:43', 'sqn_no': 79}\n",
      "db {'studentID': 78, 'class': '8:00', 'type': 'MS'} .\n",
      "{'multicast': True, 'nodeID': '2', 'oper': 'response', 'message': {'success': 1, 'data': 'Record added, ID is 80'}, 'send_time': '02/14/2022, 00:06:45', 'timestamp': '02/14/2022, 00:06:45', 'sqn_no': 80}\n",
      "db {'studentID': 79, 'class': '8:00', 'type': 'MS'} .\n",
      "{'multicast': True, 'nodeID': '2', 'oper': 'response', 'message': {'success': 1, 'data': 'Record added, ID is 81'}, 'send_time': '02/14/2022, 00:06:46', 'timestamp': '02/14/2022, 00:06:46', 'sqn_no': 81}\n",
      "db {'studentID': 80, 'class': '8:00', 'type': 'MS'} .\n",
      "{'multicast': True, 'nodeID': '2', 'oper': 'response', 'message': {'success': 1, 'data': 'Record added, ID is 82'}, 'send_time': '02/14/2022, 00:06:47', 'timestamp': '02/14/2022, 00:06:47', 'sqn_no': 82}\n",
      "db {'studentID': 81, 'class': '8:00', 'type': 'MS'} .\n",
      "{'multicast': True, 'nodeID': '2', 'oper': 'response', 'message': {'success': 1, 'data': 'Record added, ID is 83'}, 'send_time': '02/14/2022, 00:06:48', 'timestamp': '02/14/2022, 00:06:48', 'sqn_no': 83}\n",
      "db {'studentID': 82, 'class': '8:00', 'type': 'MS'} .\n",
      "{'multicast': True, 'nodeID': '2', 'oper': 'response', 'message': {'success': 1, 'data': 'Record added, ID is 84'}, 'send_time': '02/14/2022, 00:06:49', 'timestamp': '02/14/2022, 00:06:49', 'sqn_no': 84}\n",
      "db {'studentID': 83, 'class': '8:00', 'type': 'MS'} .\n",
      "{'multicast': True, 'nodeID': '2', 'oper': 'response', 'message': {'success': 1, 'data': 'Record added, ID is 85'}, 'send_time': '02/14/2022, 00:06:51', 'timestamp': '02/14/2022, 00:06:51', 'sqn_no': 85}\n",
      "db {'studentID': 84, 'class': '8:00', 'type': 'MS'} .\n",
      "{'multicast': True, 'nodeID': '2', 'oper': 'response', 'message': {'success': 1, 'data': 'Record added, ID is 86'}, 'send_time': '02/14/2022, 00:06:52', 'timestamp': '02/14/2022, 00:06:52', 'sqn_no': 86}\n",
      "db {'studentID': 85, 'class': '8:00', 'type': 'MS'} .\n",
      "{'multicast': True, 'nodeID': '2', 'oper': 'response', 'message': {'success': 1, 'data': 'Record added, ID is 87'}, 'send_time': '02/14/2022, 00:06:53', 'timestamp': '02/14/2022, 00:06:53', 'sqn_no': 87}\n",
      "db {'studentID': 86, 'class': '8:00', 'type': 'MS'} .\n",
      "{'multicast': True, 'nodeID': '2', 'oper': 'response', 'message': {'success': 1, 'data': 'Record added, ID is 88'}, 'send_time': '02/14/2022, 00:06:54', 'timestamp': '02/14/2022, 00:06:54', 'sqn_no': 88}\n",
      "db {'studentID': 87, 'class': '8:00', 'type': 'MS'} .\n",
      "{'multicast': True, 'nodeID': '2', 'oper': 'response', 'message': {'success': 1, 'data': 'Record added, ID is 89'}, 'send_time': '02/14/2022, 00:06:56', 'timestamp': '02/14/2022, 00:06:56', 'sqn_no': 89}\n",
      "db {'studentID': 88, 'class': '8:00', 'type': 'MS'} .\n",
      "{'multicast': True, 'nodeID': '2', 'oper': 'response', 'message': {'success': 1, 'data': 'Record added, ID is 90'}, 'send_time': '02/14/2022, 00:06:57', 'timestamp': '02/14/2022, 00:06:57', 'sqn_no': 90}\n",
      "db {'studentID': 89, 'class': '8:00', 'type': 'MS'} .\n",
      "{'multicast': True, 'nodeID': '2', 'oper': 'response', 'message': {'success': 1, 'data': 'Record added, ID is 91'}, 'send_time': '02/14/2022, 00:06:58', 'timestamp': '02/14/2022, 00:06:58', 'sqn_no': 91}\n",
      "db {'studentID': 90, 'class': '8:00', 'type': 'MS'} .\n",
      "{'multicast': True, 'nodeID': '2', 'oper': 'response', 'message': {'success': 1, 'data': 'Record added, ID is 92'}, 'send_time': '02/14/2022, 00:06:59', 'timestamp': '02/14/2022, 00:06:59', 'sqn_no': 92}\n",
      "db {'studentID': 91, 'class': '8:00', 'type': 'MS'} .\n",
      "{'multicast': True, 'nodeID': '2', 'oper': 'response', 'message': {'success': 1, 'data': 'Record added, ID is 93'}, 'send_time': '02/14/2022, 00:07:00', 'timestamp': '02/14/2022, 00:07:00', 'sqn_no': 93}\n",
      "db {'studentID': 92, 'class': '8:00', 'type': 'MS'} .\n",
      "{'multicast': True, 'nodeID': '2', 'oper': 'response', 'message': {'success': 1, 'data': 'Record added, ID is 94'}, 'send_time': '02/14/2022, 00:07:02', 'timestamp': '02/14/2022, 00:07:02', 'sqn_no': 94}\n",
      "db {'studentID': 93, 'class': '8:00', 'type': 'MS'} .\n",
      "{'multicast': True, 'nodeID': '2', 'oper': 'response', 'message': {'success': 1, 'data': 'Record added, ID is 95'}, 'send_time': '02/14/2022, 00:07:03', 'timestamp': '02/14/2022, 00:07:03', 'sqn_no': 95}\n",
      "db {'studentID': 94, 'class': '8:00', 'type': 'MS'} .\n",
      "{'multicast': True, 'nodeID': '2', 'oper': 'response', 'message': {'success': 1, 'data': 'Record added, ID is 96'}, 'send_time': '02/14/2022, 00:07:04', 'timestamp': '02/14/2022, 00:07:04', 'sqn_no': 96}\n",
      "db {'studentID': 95, 'class': '8:00', 'type': 'MS'} .\n",
      "{'multicast': True, 'nodeID': '2', 'oper': 'response', 'message': {'success': 1, 'data': 'Record added, ID is 97'}, 'send_time': '02/14/2022, 00:07:05', 'timestamp': '02/14/2022, 00:07:05', 'sqn_no': 97}\n",
      "db {'studentID': 96, 'class': '8:00', 'type': 'MS'} .\n",
      "{'multicast': True, 'nodeID': '2', 'oper': 'response', 'message': {'success': 1, 'data': 'Record added, ID is 98'}, 'send_time': '02/14/2022, 00:07:06', 'timestamp': '02/14/2022, 00:07:06', 'sqn_no': 98}\n"
     ]
    },
    {
     "name": "stdout",
     "output_type": "stream",
     "text": [
      "db {'studentID': 97, 'class': '8:00', 'type': 'MS'} .\n",
      "{'multicast': True, 'nodeID': '2', 'oper': 'response', 'message': {'success': 1, 'data': 'Record added, ID is 99'}, 'send_time': '02/14/2022, 00:07:08', 'timestamp': '02/14/2022, 00:07:08', 'sqn_no': 99}\n",
      "db {'studentID': 98, 'class': '8:00', 'type': 'MS'} .\n",
      "{'multicast': True, 'nodeID': '2', 'oper': 'response', 'message': {'success': 1, 'data': 'Record added, ID is 100'}, 'send_time': '02/14/2022, 00:07:09', 'timestamp': '02/14/2022, 00:07:09', 'sqn_no': 100}\n",
      "db {'studentID': 99, 'class': '8:00', 'type': 'MS'} .\n",
      "{'multicast': True, 'nodeID': '2', 'oper': 'response', 'message': {'success': 1, 'data': 'Record added, ID is 101'}, 'send_time': '02/14/2022, 00:07:10', 'timestamp': '02/14/2022, 00:07:10', 'sqn_no': 101}\n",
      "db {'studentID': 100, 'class': '8:00', 'type': 'MS'} .\n",
      "{'multicast': True, 'nodeID': '2', 'oper': 'response', 'message': {'success': 1, 'data': 'Record added, ID is 102'}, 'send_time': '02/14/2022, 00:07:11', 'timestamp': '02/14/2022, 00:07:11', 'sqn_no': 102}\n"
     ]
    }
   ],
   "source": [
    "# stress testing\n",
    "for i in range(100):\n",
    "    body = {\"studentID\":i+1,\"class\":\"8:00\",\"type\":\"MS\"}\n",
    "    print(db_conn.write(bucket_name=\"db\",body=body))\n",
    "    time.sleep(1)\n",
    "    "
   ]
  },
  {
   "cell_type": "markdown",
   "metadata": {},
   "source": [
    "# Reading Record By ID from database"
   ]
  },
  {
   "cell_type": "code",
   "execution_count": null,
   "metadata": {},
   "outputs": [],
   "source": []
  },
  {
   "cell_type": "code",
   "execution_count": 64,
   "metadata": {},
   "outputs": [
    {
     "name": "stdout",
     "output_type": "stream",
     "text": [
      "db 9 .\n"
     ]
    },
    {
     "data": {
      "text/plain": [
       "{'nodeID': '4',\n",
       " 'oper': 'response',\n",
       " 'message': {'success': 0, 'data': 'Failed to perform request'}}"
      ]
     },
     "execution_count": 64,
     "metadata": {},
     "output_type": "execute_result"
    }
   ],
   "source": [
    "db_conn.readbyID(bucket_name=\"db\",id=9)"
   ]
  },
  {
   "cell_type": "code",
   "execution_count": null,
   "metadata": {},
   "outputs": [],
   "source": []
  },
  {
   "cell_type": "markdown",
   "metadata": {},
   "source": [
    "# Deleting Record by ID"
   ]
  },
  {
   "cell_type": "code",
   "execution_count": 70,
   "metadata": {},
   "outputs": [],
   "source": [
    "lst = [i for i in range(101)]"
   ]
  },
  {
   "cell_type": "code",
   "execution_count": 71,
   "metadata": {},
   "outputs": [
    {
     "name": "stdout",
     "output_type": "stream",
     "text": [
      "db [0, 1, 2, 3, 4, 5, 6, 7, 8, 9, 10, 11, 12, 13, 14, 15, 16, 17, 18, 19, 20, 21, 22, 23, 24, 25, 26, 27, 28, 29, 30, 31, 32, 33, 34, 35, 36, 37, 38, 39, 40, 41, 42, 43, 44, 45, 46, 47, 48, 49, 50, 51, 52, 53, 54, 55, 56, 57, 58, 59, 60, 61, 62, 63, 64, 65, 66, 67, 68, 69, 70, 71, 72, 73, 74, 75, 76, 77, 78, 79, 80, 81, 82, 83, 84, 85, 86, 87, 88, 89, 90, 91, 92, 93, 94, 95, 96, 97, 98, 99, 100] .\n"
     ]
    },
    {
     "data": {
      "text/plain": [
       "{'nodeID': '7',\n",
       " 'oper': 'response',\n",
       " 'message': {'success': 1,\n",
       "  'data': 'Record with ID:[1, 2, 3, 4, 5, 6, 7, 8, 9, 10, 11, 12, 13, 14, 15, 16, 17, 18, 19, 20, 21, 22, 23, 24] is deleted and No Record found with ID:[0, 25, 26, 27, 28, 29, 30, 31, 32, 33, 34, 35, 36, 37, 38, 39, 40, 41, 42, 43, 44, 45, 46, 47, 48, 49, 50, 51, 52, 53, 54, 55, 56, 57, 58, 59, 60, 61, 62, 63, 64, 65, 66, 67, 68, 69, 70, 71, 72, 73, 74, 75, 76, 77, 78, 79, 80, 81, 82, 83, 84, 85, 86, 87, 88, 89, 90, 91, 92, 93, 94, 95, 96, 97, 98, 99, 100]'},\n",
       " 'send_time': '01/08/2022, 00:02:53',\n",
       " 'timestamp': '01/08/2022, 00:02:53',\n",
       " 'sqn_no': 25}"
      ]
     },
     "execution_count": 71,
     "metadata": {},
     "output_type": "execute_result"
    }
   ],
   "source": [
    "db_conn.deletebyID(bucket_name=\"db\",id=lst)"
   ]
  },
  {
   "cell_type": "markdown",
   "metadata": {},
   "source": [
    "# Update record by ID"
   ]
  },
  {
   "cell_type": "code",
   "execution_count": null,
   "metadata": {},
   "outputs": [],
   "source": []
  }
 ],
 "metadata": {
  "kernelspec": {
   "display_name": "Python 3 (ipykernel)",
   "language": "python",
   "name": "python3"
  },
  "language_info": {
   "codemirror_mode": {
    "name": "ipython",
    "version": 3
   },
   "file_extension": ".py",
   "mimetype": "text/x-python",
   "name": "python",
   "nbconvert_exporter": "python",
   "pygments_lexer": "ipython3",
   "version": "3.7.10"
  }
 },
 "nbformat": 4,
 "nbformat_minor": 4
}
