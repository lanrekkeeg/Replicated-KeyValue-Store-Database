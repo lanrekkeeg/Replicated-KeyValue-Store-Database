{
 "cells": [
  {
   "cell_type": "code",
   "execution_count": 94,
   "metadata": {},
   "outputs": [],
   "source": [
    "import sys\n",
    "sys.path.append(\"..\")\n"
   ]
  },
  {
   "cell_type": "code",
   "execution_count": 95,
   "metadata": {},
   "outputs": [],
   "source": [
    "from keyvalue_client import KeyStore\n",
    "import time"
   ]
  },
  {
   "cell_type": "code",
   "execution_count": 96,
   "metadata": {},
   "outputs": [
    {
     "name": "stdout",
     "output_type": "stream",
     "text": [
      "Checking for leader IP\n",
      "{'nodeID': '3', 'oper': 'response', 'message': {'leader': 3, 'host': '192.168.0.103', 'port': 9003}}\n",
      "Leader data is {'leader': 3, 'host': '192.168.0.103', 'port': 9003}\n",
      "Test passed\n",
      "Returning leader ip to client\n"
     ]
    }
   ],
   "source": [
    "db_conn = KeyStore()"
   ]
  },
  {
   "cell_type": "markdown",
   "metadata": {},
   "source": [
    "# Writing data to DataBase"
   ]
  },
  {
   "cell_type": "code",
   "execution_count": 97,
   "metadata": {},
   "outputs": [],
   "source": [
    "body = {\"studentID\":1,\"class\":\"8:00\",\"type\":\"MS\"}\n"
   ]
  },
  {
   "cell_type": "code",
   "execution_count": 98,
   "metadata": {},
   "outputs": [
    {
     "name": "stdout",
     "output_type": "stream",
     "text": [
      "db {'studentID': 1, 'class': '8:00', 'type': 'MS'} .\n"
     ]
    },
    {
     "data": {
      "text/plain": [
       "{'nodeID': '3',\n",
       " 'oper': 'response',\n",
       " 'message': {'success': 0, 'data': 'Failed to perform request'}}"
      ]
     },
     "execution_count": 98,
     "metadata": {},
     "output_type": "execute_result"
    }
   ],
   "source": [
    "db_conn.write(bucket_name=\"db\",body=body)"
   ]
  },
  {
   "cell_type": "markdown",
   "metadata": {},
   "source": [
    "### Stress testing"
   ]
  },
  {
   "cell_type": "code",
   "execution_count": 93,
   "metadata": {},
   "outputs": [
    {
     "name": "stdout",
     "output_type": "stream",
     "text": [
      "db {'studentID': 1, 'class': '8:00', 'type': 'MS'} .\n",
      "{'multicast': True, 'nodeID': '3', 'oper': 'response', 'message': {'success': 1, 'data': 'Record added, ID is 7'}, 'send_time': '02/14/2022, 13:11:39', 'timestamp': '02/14/2022, 13:11:39', 'sqn_no': 8}\n",
      "db {'studentID': 2, 'class': '8:00', 'type': 'MS'} .\n",
      "{'multicast': True, 'nodeID': '3', 'oper': 'response', 'message': {'success': 1, 'data': 'Record added, ID is 8'}, 'send_time': '02/14/2022, 13:11:40', 'timestamp': '02/14/2022, 13:11:40', 'sqn_no': 9}\n",
      "db {'studentID': 3, 'class': '8:00', 'type': 'MS'} .\n",
      "{'multicast': True, 'nodeID': '3', 'oper': 'response', 'message': {'success': 1, 'data': 'Record added, ID is 9'}, 'send_time': '02/14/2022, 13:11:41', 'timestamp': '02/14/2022, 13:11:42', 'sqn_no': 10}\n",
      "db {'studentID': 4, 'class': '8:00', 'type': 'MS'} .\n",
      "{'nodeID': '3', 'oper': 'response', 'message': {'success': 0, 'data': 'Failed to perform request'}}\n",
      "db {'studentID': 5, 'class': '8:00', 'type': 'MS'} .\n",
      "{'nodeID': '3', 'oper': 'response', 'message': {'success': 0, 'data': 'Failed to perform request'}}\n",
      "db {'studentID': 6, 'class': '8:00', 'type': 'MS'} .\n",
      "{'nodeID': '3', 'oper': 'response', 'message': {'success': 0, 'data': 'Failed to perform request'}}\n",
      "db {'studentID': 7, 'class': '8:00', 'type': 'MS'} .\n",
      "{'nodeID': '3', 'oper': 'response', 'message': {'success': 0, 'data': 'Failed to perform request'}}\n",
      "db {'studentID': 8, 'class': '8:00', 'type': 'MS'} .\n",
      "{'nodeID': '3', 'oper': 'response', 'message': {'success': 0, 'data': 'Failed to perform request'}}\n",
      "db {'studentID': 9, 'class': '8:00', 'type': 'MS'} .\n",
      "{'nodeID': '3', 'oper': 'response', 'message': {'success': 0, 'data': 'Failed to perform request'}}\n",
      "db {'studentID': 10, 'class': '8:00', 'type': 'MS'} .\n",
      "{'nodeID': '3', 'oper': 'response', 'message': {'success': 0, 'data': 'Failed to perform request'}}\n"
     ]
    }
   ],
   "source": [
    "# stress testing\n",
    "for i in range(10):\n",
    "    body = {\"studentID\":i+1,\"class\":\"8:00\",\"type\":\"MS\"}\n",
    "    print(db_conn.write(bucket_name=\"db\",body=body))\n",
    "    time.sleep(1)\n",
    "    "
   ]
  },
  {
   "cell_type": "markdown",
   "metadata": {},
   "source": [
    "# Reading Record By ID from database"
   ]
  },
  {
   "cell_type": "code",
   "execution_count": null,
   "metadata": {},
   "outputs": [],
   "source": []
  },
  {
   "cell_type": "code",
   "execution_count": 13,
   "metadata": {},
   "outputs": [
    {
     "name": "stdout",
     "output_type": "stream",
     "text": [
      "db 1 .\n"
     ]
    },
    {
     "data": {
      "text/plain": [
       "{'multicast': True,\n",
       " 'nodeID': '10',\n",
       " 'oper': 'response',\n",
       " 'message': {'success': 1,\n",
       "  'data': {'studentID': '1353245', 'class': '8:00', 'type': 'MS'}},\n",
       " 'send_time': '02/14/2022, 01:44:48',\n",
       " 'timestamp': '02/14/2022, 01:44:48',\n",
       " 'sqn_no': 3}"
      ]
     },
     "execution_count": 13,
     "metadata": {},
     "output_type": "execute_result"
    }
   ],
   "source": [
    "db_conn.readbyID(bucket_name=\"db\",id=1)"
   ]
  },
  {
   "cell_type": "code",
   "execution_count": null,
   "metadata": {},
   "outputs": [],
   "source": []
  },
  {
   "cell_type": "markdown",
   "metadata": {},
   "source": [
    "# Deleting Record by ID"
   ]
  },
  {
   "cell_type": "code",
   "execution_count": null,
   "metadata": {},
   "outputs": [],
   "source": [
    "lst = [i for i in range(101)]"
   ]
  },
  {
   "cell_type": "code",
   "execution_count": null,
   "metadata": {},
   "outputs": [],
   "source": [
    "db_conn.deletebyID(bucket_name=\"db\",id=lst)"
   ]
  },
  {
   "cell_type": "markdown",
   "metadata": {},
   "source": [
    "# Update record by ID"
   ]
  },
  {
   "cell_type": "code",
   "execution_count": 12,
   "metadata": {},
   "outputs": [
    {
     "data": {
      "text/plain": [
       "{'multicast': True,\n",
       " 'nodeID': '10',\n",
       " 'oper': 'response',\n",
       " 'message': {'success': 1, 'data': 'Record updated sucessfully'},\n",
       " 'send_time': '02/14/2022, 01:44:37',\n",
       " 'timestamp': '02/14/2022, 01:44:37',\n",
       " 'sqn_no': 2}"
      ]
     },
     "execution_count": 12,
     "metadata": {},
     "output_type": "execute_result"
    }
   ],
   "source": [
    "query = {\"query\":{\"studentID\":\"1353245\"}, 'id':1}\n",
    "db_conn.updatebyID(bucket_name=\"db\", data=query)"
   ]
  },
  {
   "cell_type": "markdown",
   "metadata": {},
   "source": [
    "# SearchByQuery"
   ]
  },
  {
   "cell_type": "code",
   "execution_count": null,
   "metadata": {},
   "outputs": [],
   "source": []
  }
 ],
 "metadata": {
  "kernelspec": {
   "display_name": "Python 3 (ipykernel)",
   "language": "python",
   "name": "python3"
  },
  "language_info": {
   "codemirror_mode": {
    "name": "ipython",
    "version": 3
   },
   "file_extension": ".py",
   "mimetype": "text/x-python",
   "name": "python",
   "nbconvert_exporter": "python",
   "pygments_lexer": "ipython3",
   "version": "3.7.10"
  }
 },
 "nbformat": 4,
 "nbformat_minor": 4
}
