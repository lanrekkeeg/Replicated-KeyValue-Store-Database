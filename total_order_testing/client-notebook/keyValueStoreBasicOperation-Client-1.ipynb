{
 "cells": [
  {
   "cell_type": "code",
   "execution_count": 29,
   "metadata": {},
   "outputs": [],
   "source": [
    "import sys\n",
    "sys.path.append(\"..\")\n"
   ]
  },
  {
   "cell_type": "code",
   "execution_count": 30,
   "metadata": {},
   "outputs": [],
   "source": [
    "from keyvalue_client import KeyStore\n",
    "import time"
   ]
  },
  {
   "cell_type": "code",
   "execution_count": 31,
   "metadata": {},
   "outputs": [
    {
     "name": "stdout",
     "output_type": "stream",
     "text": [
      "Checking for leader IP\n",
      "{'nodeID': '2', 'oper': 'response', 'message': {'leader': 2, 'host': '192.168.0.102', 'port': 9010}}\n",
      "Leader data is {'leader': 2, 'host': '192.168.0.102', 'port': 9010}\n",
      "Test passed\n",
      "Returning leader ip to client\n"
     ]
    }
   ],
   "source": [
    "db_conn = KeyStore()"
   ]
  },
  {
   "cell_type": "markdown",
   "metadata": {},
   "source": [
    "# Writing data to DataBase"
   ]
  },
  {
   "cell_type": "code",
   "execution_count": 32,
   "metadata": {},
   "outputs": [],
   "source": [
    "body = {\"studentID\":1,\"class\":\"8:00\",\"type\":\"MS\"}\n"
   ]
  },
  {
   "cell_type": "code",
   "execution_count": 33,
   "metadata": {},
   "outputs": [
    {
     "name": "stdout",
     "output_type": "stream",
     "text": [
      "db {'studentID': 1, 'class': '8:00', 'type': 'MS'} .\n"
     ]
    },
    {
     "data": {
      "text/plain": [
       "{'multicast': True,\n",
       " 'nodeID': '2',\n",
       " 'oper': 'response',\n",
       " 'message': {'success': 1, 'data': 'Record added, ID is 1'},\n",
       " 'send_time': '02/14/2022, 12:04:24',\n",
       " 'timestamp': '02/14/2022, 12:04:24',\n",
       " 'sqn_no': 1}"
      ]
     },
     "execution_count": 33,
     "metadata": {},
     "output_type": "execute_result"
    }
   ],
   "source": [
    "db_conn.write(bucket_name=\"db\",body=body)"
   ]
  },
  {
   "cell_type": "markdown",
   "metadata": {},
   "source": [
    "### Stress testing"
   ]
  },
  {
   "cell_type": "code",
   "execution_count": 34,
   "metadata": {},
   "outputs": [
    {
     "name": "stdout",
     "output_type": "stream",
     "text": [
      "db {'studentID': 1, 'class': '8:00', 'type': 'MS'} .\n",
      "{'multicast': True, 'nodeID': '2', 'oper': 'response', 'message': {'success': 1, 'data': 'Record added, ID is 2'}, 'send_time': '02/14/2022, 12:04:38', 'timestamp': '02/14/2022, 12:04:38', 'sqn_no': 2}\n",
      "db {'studentID': 2, 'class': '8:00', 'type': 'MS'} .\n",
      "{'multicast': True, 'nodeID': '2', 'oper': 'response', 'message': {'success': 1, 'data': 'Record added, ID is 3'}, 'send_time': '02/14/2022, 12:04:39', 'timestamp': '02/14/2022, 12:04:39', 'sqn_no': 3}\n",
      "db {'studentID': 3, 'class': '8:00', 'type': 'MS'} .\n",
      "{'multicast': True, 'nodeID': '2', 'oper': 'response', 'message': {'success': 1, 'data': 'Record added, ID is 4'}, 'send_time': '02/14/2022, 12:04:41', 'timestamp': '02/14/2022, 12:04:41', 'sqn_no': 4}\n",
      "db {'studentID': 4, 'class': '8:00', 'type': 'MS'} .\n",
      "{'multicast': True, 'nodeID': '2', 'oper': 'response', 'message': {'success': 1, 'data': 'Record added, ID is 5'}, 'send_time': '02/14/2022, 12:04:42', 'timestamp': '02/14/2022, 12:04:42', 'sqn_no': 5}\n",
      "db {'studentID': 5, 'class': '8:00', 'type': 'MS'} .\n",
      "{'multicast': True, 'nodeID': '2', 'oper': 'response', 'message': {'success': 1, 'data': 'Record added, ID is 6'}, 'send_time': '02/14/2022, 12:04:43', 'timestamp': '02/14/2022, 12:04:43', 'sqn_no': 6}\n",
      "db {'studentID': 6, 'class': '8:00', 'type': 'MS'} .\n",
      "{'multicast': True, 'nodeID': '2', 'oper': 'response', 'message': {'success': 1, 'data': 'Record added, ID is 7'}, 'send_time': '02/14/2022, 12:04:44', 'timestamp': '02/14/2022, 12:04:44', 'sqn_no': 7}\n",
      "db {'studentID': 7, 'class': '8:00', 'type': 'MS'} .\n",
      "{'multicast': True, 'nodeID': '2', 'oper': 'response', 'message': {'success': 1, 'data': 'Record added, ID is 8'}, 'send_time': '02/14/2022, 12:04:46', 'timestamp': '02/14/2022, 12:04:46', 'sqn_no': 8}\n",
      "db {'studentID': 8, 'class': '8:00', 'type': 'MS'} .\n",
      "{'multicast': True, 'nodeID': '2', 'oper': 'response', 'message': {'success': 1, 'data': 'Record added, ID is 9'}, 'send_time': '02/14/2022, 12:04:47', 'timestamp': '02/14/2022, 12:04:47', 'sqn_no': 9}\n",
      "db {'studentID': 9, 'class': '8:00', 'type': 'MS'} .\n",
      "{'multicast': True, 'nodeID': '2', 'oper': 'response', 'message': {'success': 1, 'data': 'Record added, ID is 10'}, 'send_time': '02/14/2022, 12:04:48', 'timestamp': '02/14/2022, 12:04:48', 'sqn_no': 10}\n",
      "db {'studentID': 10, 'class': '8:00', 'type': 'MS'} .\n",
      "{'multicast': True, 'nodeID': '2', 'oper': 'response', 'message': {'success': 1, 'data': 'Record added, ID is 11'}, 'send_time': '02/14/2022, 12:04:49', 'timestamp': '02/14/2022, 12:04:49', 'sqn_no': 11}\n"
     ]
    }
   ],
   "source": [
    "# stress testing\n",
    "for i in range(10):\n",
    "    body = {\"studentID\":i+1,\"class\":\"8:00\",\"type\":\"MS\"}\n",
    "    print(db_conn.write(bucket_name=\"db\",body=body))\n",
    "    time.sleep(1)\n",
    "    "
   ]
  },
  {
   "cell_type": "markdown",
   "metadata": {},
   "source": [
    "# Reading Record By ID from database"
   ]
  },
  {
   "cell_type": "code",
   "execution_count": null,
   "metadata": {},
   "outputs": [],
   "source": []
  },
  {
   "cell_type": "code",
   "execution_count": 13,
   "metadata": {},
   "outputs": [
    {
     "name": "stdout",
     "output_type": "stream",
     "text": [
      "db 1 .\n"
     ]
    },
    {
     "data": {
      "text/plain": [
       "{'multicast': True,\n",
       " 'nodeID': '10',\n",
       " 'oper': 'response',\n",
       " 'message': {'success': 1,\n",
       "  'data': {'studentID': '1353245', 'class': '8:00', 'type': 'MS'}},\n",
       " 'send_time': '02/14/2022, 01:44:48',\n",
       " 'timestamp': '02/14/2022, 01:44:48',\n",
       " 'sqn_no': 3}"
      ]
     },
     "execution_count": 13,
     "metadata": {},
     "output_type": "execute_result"
    }
   ],
   "source": [
    "db_conn.readbyID(bucket_name=\"db\",id=1)"
   ]
  },
  {
   "cell_type": "code",
   "execution_count": null,
   "metadata": {},
   "outputs": [],
   "source": []
  },
  {
   "cell_type": "markdown",
   "metadata": {},
   "source": [
    "# Deleting Record by ID"
   ]
  },
  {
   "cell_type": "code",
   "execution_count": null,
   "metadata": {},
   "outputs": [],
   "source": [
    "lst = [i for i in range(101)]"
   ]
  },
  {
   "cell_type": "code",
   "execution_count": null,
   "metadata": {},
   "outputs": [],
   "source": [
    "db_conn.deletebyID(bucket_name=\"db\",id=lst)"
   ]
  },
  {
   "cell_type": "markdown",
   "metadata": {},
   "source": [
    "# Update record by ID"
   ]
  },
  {
   "cell_type": "code",
   "execution_count": 12,
   "metadata": {},
   "outputs": [
    {
     "data": {
      "text/plain": [
       "{'multicast': True,\n",
       " 'nodeID': '10',\n",
       " 'oper': 'response',\n",
       " 'message': {'success': 1, 'data': 'Record updated sucessfully'},\n",
       " 'send_time': '02/14/2022, 01:44:37',\n",
       " 'timestamp': '02/14/2022, 01:44:37',\n",
       " 'sqn_no': 2}"
      ]
     },
     "execution_count": 12,
     "metadata": {},
     "output_type": "execute_result"
    }
   ],
   "source": [
    "query = {\"query\":{\"studentID\":\"1353245\"}, 'id':1}\n",
    "db_conn.updatebyID(bucket_name=\"db\", data=query)"
   ]
  },
  {
   "cell_type": "code",
   "execution_count": null,
   "metadata": {},
   "outputs": [],
   "source": []
  }
 ],
 "metadata": {
  "kernelspec": {
   "display_name": "Python 3 (ipykernel)",
   "language": "python",
   "name": "python3"
  },
  "language_info": {
   "codemirror_mode": {
    "name": "ipython",
    "version": 3
   },
   "file_extension": ".py",
   "mimetype": "text/x-python",
   "name": "python",
   "nbconvert_exporter": "python",
   "pygments_lexer": "ipython3",
   "version": "3.7.10"
  }
 },
 "nbformat": 4,
 "nbformat_minor": 4
}
