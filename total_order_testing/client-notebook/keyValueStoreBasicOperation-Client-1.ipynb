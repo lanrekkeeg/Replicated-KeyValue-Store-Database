{
 "cells": [
  {
   "cell_type": "code",
   "execution_count": 28,
   "metadata": {},
   "outputs": [],
   "source": [
    "import sys\n",
    "sys.path.append(\"..\")\n"
   ]
  },
  {
   "cell_type": "code",
   "execution_count": 29,
   "metadata": {},
   "outputs": [],
   "source": [
    "from keyvalue_client import KeyStore\n",
    "import time"
   ]
  },
  {
   "cell_type": "code",
   "execution_count": 30,
   "metadata": {},
   "outputs": [
    {
     "name": "stdout",
     "output_type": "stream",
     "text": [
      "Checking for leader IP\n",
      "{'nodeID': '2', 'oper': 'response', 'message': {'leader': 2, 'host': '192.168.0.101', 'port': 9004}}\n",
      "Leader data is {'leader': 2, 'host': '192.168.0.101', 'port': 9004}\n",
      "Test passed\n",
      "Returning leader ip to client\n"
     ]
    }
   ],
   "source": [
    "db_conn = KeyStore()"
   ]
  },
  {
   "cell_type": "markdown",
   "metadata": {},
   "source": [
    "# Writing data to DataBase"
   ]
  },
  {
   "cell_type": "code",
   "execution_count": 31,
   "metadata": {},
   "outputs": [],
   "source": [
    "body = {\"class\":\"8:00\",\"type\":\"MS\"}\n"
   ]
  },
  {
   "cell_type": "code",
   "execution_count": 32,
   "metadata": {},
   "outputs": [
    {
     "name": "stdout",
     "output_type": "stream",
     "text": [
      "db {'class': '8:00', 'type': 'MS'} .\n"
     ]
    },
    {
     "data": {
      "text/plain": [
       "{'nodeID': '2',\n",
       " 'oper': 'response',\n",
       " 'message': {'success': 1, 'data': 'Record added, ID is 9'},\n",
       " 'send_time': '01/07/2022, 19:44:37',\n",
       " 'timestamp': '01/07/2022, 19:44:37',\n",
       " 'sqn_no': 33}"
      ]
     },
     "execution_count": 32,
     "metadata": {},
     "output_type": "execute_result"
    }
   ],
   "source": [
    "db_conn.write(bucket_name=\"db\",body=body)"
   ]
  },
  {
   "cell_type": "markdown",
   "metadata": {},
   "source": [
    "### Stress testing"
   ]
  },
  {
   "cell_type": "code",
   "execution_count": null,
   "metadata": {},
   "outputs": [],
   "source": [
    "# stress testing\n",
    "for i in range(100):\n",
    "    print(db_conn.write(bucket_name=\"db\",body=message))\n",
    "    time.sleep(1)\n",
    "    "
   ]
  },
  {
   "cell_type": "markdown",
   "metadata": {},
   "source": [
    "# Reading Record By ID from database"
   ]
  },
  {
   "cell_type": "code",
   "execution_count": null,
   "metadata": {},
   "outputs": [],
   "source": []
  },
  {
   "cell_type": "code",
   "execution_count": 33,
   "metadata": {},
   "outputs": [
    {
     "name": "stdout",
     "output_type": "stream",
     "text": [
      "db 9 .\n"
     ]
    },
    {
     "data": {
      "text/plain": [
       "{'nodeID': '2',\n",
       " 'oper': 'response',\n",
       " 'message': {'success': 1, 'data': {'class': '8:00', 'type': 'MS'}},\n",
       " 'send_time': '01/07/2022, 19:44:50',\n",
       " 'timestamp': '01/07/2022, 19:44:50',\n",
       " 'sqn_no': 34}"
      ]
     },
     "execution_count": 33,
     "metadata": {},
     "output_type": "execute_result"
    }
   ],
   "source": [
    "db_conn.readbyID(bucket_name=\"db\",id=9)"
   ]
  },
  {
   "cell_type": "code",
   "execution_count": null,
   "metadata": {},
   "outputs": [],
   "source": []
  },
  {
   "cell_type": "markdown",
   "metadata": {},
   "source": [
    "# Deleting Record by ID"
   ]
  },
  {
   "cell_type": "code",
   "execution_count": 35,
   "metadata": {},
   "outputs": [
    {
     "name": "stdout",
     "output_type": "stream",
     "text": [
      "db [1, 2, 3, 4, 5, 9] .\n"
     ]
    },
    {
     "data": {
      "text/plain": [
       "{'nodeID': '2',\n",
       " 'oper': 'response',\n",
       " 'message': {'success': 1,\n",
       "  'data': 'Record with ID:[9] is deleted and No Record found with ID:[1, 2, 3, 4, 5]'},\n",
       " 'send_time': '01/07/2022, 19:45:09',\n",
       " 'timestamp': '01/07/2022, 19:45:09',\n",
       " 'sqn_no': 36}"
      ]
     },
     "execution_count": 35,
     "metadata": {},
     "output_type": "execute_result"
    }
   ],
   "source": [
    "db_conn.deletebyID(bucket_name=\"db\",id=[1,2,3,4,5,9])"
   ]
  },
  {
   "cell_type": "markdown",
   "metadata": {},
   "source": [
    "# Update record by ID"
   ]
  },
  {
   "cell_type": "code",
   "execution_count": null,
   "metadata": {},
   "outputs": [],
   "source": []
  }
 ],
 "metadata": {
  "kernelspec": {
   "display_name": "Python 3 (ipykernel)",
   "language": "python",
   "name": "python3"
  },
  "language_info": {
   "codemirror_mode": {
    "name": "ipython",
    "version": 3
   },
   "file_extension": ".py",
   "mimetype": "text/x-python",
   "name": "python",
   "nbconvert_exporter": "python",
   "pygments_lexer": "ipython3",
   "version": "3.7.10"
  }
 },
 "nbformat": 4,
 "nbformat_minor": 4
}
